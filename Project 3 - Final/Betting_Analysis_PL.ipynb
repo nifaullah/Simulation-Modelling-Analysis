{
 "cells": [
  {
   "cell_type": "markdown",
   "metadata": {},
   "source": [
    "# Study & Simulation of a Potential Betting based Business on Premier League Games"
   ]
  },
  {
   "cell_type": "markdown",
   "metadata": {},
   "source": [
    "## 1. Libraries"
   ]
  },
  {
   "cell_type": "code",
   "execution_count": 273,
   "metadata": {},
   "outputs": [],
   "source": [
    "import numpy as np\n",
    "import pandas as pd\n",
    "import matplotlib.pyplot as plt\n",
    "import seaborn as sns\n",
    "from IPython.core.display import display, HTML"
   ]
  },
  {
   "cell_type": "markdown",
   "metadata": {},
   "source": [
    "## 2. Setup"
   ]
  },
  {
   "cell_type": "code",
   "execution_count": 30,
   "metadata": {},
   "outputs": [],
   "source": [
    "_path = \"C:\\\\Users\\\\nifaullah\\\\Downloads\\\\msba\\\\Classes_Spring\\\\Simulation\\\\Project\\\\\"\n",
    "_filename = \"data.xlsx\"\n",
    "_fixed_costs = 1000\n",
    "\n",
    "def GetPoints(win_prob, draw_prob, loss_Prob, matches = 38):\n",
    "    raw_val = np.random.multinomial(matches, [win_prob, draw_prob, loss_Prob], size=10000)\n",
    "    average_val = np.mean(raw_val, axis = 0)\n",
    "    average_points = average_val[0] * 3 + average_val[1] * 1\n",
    "    return round(average_points,2)\n",
    "\n",
    "def PrepareData():   \n",
    "    df = pd.read_excel(f\"{_path}{_filename}\")\n",
    "    df = df [[\"Team\",\"Win_Prob\", \"Draw_Prob\", \"Loss_Prob\"]]\n",
    "    \n",
    "    df[\"predicted_points\"] = df.apply(lambda x: GetPoints(x.Win_Prob, x.Draw_Prob, x.Loss_Prob), axis = 1)\n",
    "    df[\"predicted_position\"] = df[\"predicted_points\"].rank(method='max', ascending = False)\n",
    "    \n",
    "    df[\"winning_league_prob\"] = df[[\"predicted_points\", \"predicted_position\"]]\\\n",
    "        .apply(lambda x: x[0]/114, axis=1)\n",
    "    df[\"winning_league_odds\"] = df[[\"winning_league_prob\", \"predicted_position\"]]\\\n",
    "        .apply(lambda x: (1 + ((1 - x[0]) * (1 + x[1]))), axis=1)\n",
    "        \n",
    "    df[\"top_4_prob\"] = df[[\"predicted_points\", \"predicted_position\"]]\\\n",
    "        .apply(lambda x: x[0]/85, axis=1)\n",
    "    df[\"top_4_odds\"] = df[[\"top_4_prob\", \"predicted_position\"]]\\\n",
    "        .apply(lambda x: (1 + ((1 - x[0]) * (1 + (x[1]/3)))), axis=1)\n",
    "        \n",
    "    df[\"relegation_prob\"] = df[\"winning_league_prob\"].apply(lambda x: 1 - x)\n",
    "    df[\"relegation_odds\"] = df[[\"relegation_prob\", \"predicted_position\"]]\\\n",
    "        .apply(lambda x: (1 + ((1 - x[0]) * (1 + (21 - x[1])//3))), axis=1)\n",
    "    return df"
   ]
  },
  {
   "cell_type": "code",
   "execution_count": 168,
   "metadata": {
    "scrolled": false
   },
   "outputs": [
    {
     "data": {
      "text/html": [
       "<div>\n",
       "<style scoped>\n",
       "    .dataframe tbody tr th:only-of-type {\n",
       "        vertical-align: middle;\n",
       "    }\n",
       "\n",
       "    .dataframe tbody tr th {\n",
       "        vertical-align: top;\n",
       "    }\n",
       "\n",
       "    .dataframe thead th {\n",
       "        text-align: right;\n",
       "    }\n",
       "</style>\n",
       "<table border=\"1\" class=\"dataframe\">\n",
       "  <thead>\n",
       "    <tr style=\"text-align: right;\">\n",
       "      <th></th>\n",
       "      <th>Team</th>\n",
       "      <th>Win_Prob</th>\n",
       "      <th>Draw_Prob</th>\n",
       "      <th>Loss_Prob</th>\n",
       "      <th>predicted_points</th>\n",
       "      <th>predicted_position</th>\n",
       "      <th>winning_league_prob</th>\n",
       "      <th>winning_league_odds</th>\n",
       "      <th>top_4_prob</th>\n",
       "      <th>top_4_odds</th>\n",
       "      <th>relegation_prob</th>\n",
       "      <th>relegation_odds</th>\n",
       "    </tr>\n",
       "  </thead>\n",
       "  <tbody>\n",
       "    <tr>\n",
       "      <th>10</th>\n",
       "      <td>Manchester City</td>\n",
       "      <td>0.684211</td>\n",
       "      <td>0.163158</td>\n",
       "      <td>0.152632</td>\n",
       "      <td>84.13</td>\n",
       "      <td>1.0</td>\n",
       "      <td>0.737982</td>\n",
       "      <td>1.524035</td>\n",
       "      <td>0.989765</td>\n",
       "      <td>1.013647</td>\n",
       "      <td>0.262018</td>\n",
       "      <td>6.165877</td>\n",
       "    </tr>\n",
       "    <tr>\n",
       "      <th>5</th>\n",
       "      <td>Chelsea</td>\n",
       "      <td>0.578947</td>\n",
       "      <td>0.221053</td>\n",
       "      <td>0.200000</td>\n",
       "      <td>74.31</td>\n",
       "      <td>2.0</td>\n",
       "      <td>0.651842</td>\n",
       "      <td>2.044474</td>\n",
       "      <td>0.874235</td>\n",
       "      <td>1.209608</td>\n",
       "      <td>0.348158</td>\n",
       "      <td>5.562895</td>\n",
       "    </tr>\n",
       "    <tr>\n",
       "      <th>9</th>\n",
       "      <td>Liverpool</td>\n",
       "      <td>0.563158</td>\n",
       "      <td>0.257895</td>\n",
       "      <td>0.178947</td>\n",
       "      <td>73.90</td>\n",
       "      <td>3.0</td>\n",
       "      <td>0.648246</td>\n",
       "      <td>2.407018</td>\n",
       "      <td>0.869412</td>\n",
       "      <td>1.261176</td>\n",
       "      <td>0.351754</td>\n",
       "      <td>5.537719</td>\n",
       "    </tr>\n",
       "    <tr>\n",
       "      <th>16</th>\n",
       "      <td>Tottenham Hotspurs</td>\n",
       "      <td>0.578947</td>\n",
       "      <td>0.200000</td>\n",
       "      <td>0.221053</td>\n",
       "      <td>73.50</td>\n",
       "      <td>4.0</td>\n",
       "      <td>0.644737</td>\n",
       "      <td>2.776316</td>\n",
       "      <td>0.864706</td>\n",
       "      <td>1.315686</td>\n",
       "      <td>0.355263</td>\n",
       "      <td>4.868421</td>\n",
       "    </tr>\n",
       "    <tr>\n",
       "      <th>0</th>\n",
       "      <td>Arsenal</td>\n",
       "      <td>0.552632</td>\n",
       "      <td>0.205263</td>\n",
       "      <td>0.242105</td>\n",
       "      <td>70.72</td>\n",
       "      <td>5.0</td>\n",
       "      <td>0.620351</td>\n",
       "      <td>3.277895</td>\n",
       "      <td>0.832000</td>\n",
       "      <td>1.448000</td>\n",
       "      <td>0.379649</td>\n",
       "      <td>4.722105</td>\n",
       "    </tr>\n",
       "    <tr>\n",
       "      <th>11</th>\n",
       "      <td>Manchester United</td>\n",
       "      <td>0.531579</td>\n",
       "      <td>0.257895</td>\n",
       "      <td>0.210526</td>\n",
       "      <td>70.47</td>\n",
       "      <td>6.0</td>\n",
       "      <td>0.618158</td>\n",
       "      <td>3.672895</td>\n",
       "      <td>0.829059</td>\n",
       "      <td>1.512824</td>\n",
       "      <td>0.381842</td>\n",
       "      <td>4.708947</td>\n",
       "    </tr>\n",
       "    <tr>\n",
       "      <th>19</th>\n",
       "      <td>Wolverhampton Wanderers</td>\n",
       "      <td>0.421053</td>\n",
       "      <td>0.236842</td>\n",
       "      <td>0.342105</td>\n",
       "      <td>57.08</td>\n",
       "      <td>7.0</td>\n",
       "      <td>0.500702</td>\n",
       "      <td>4.994386</td>\n",
       "      <td>0.671529</td>\n",
       "      <td>2.094902</td>\n",
       "      <td>0.499298</td>\n",
       "      <td>3.503509</td>\n",
       "    </tr>\n",
       "    <tr>\n",
       "      <th>8</th>\n",
       "      <td>Leicester City</td>\n",
       "      <td>0.384211</td>\n",
       "      <td>0.242105</td>\n",
       "      <td>0.373684</td>\n",
       "      <td>52.89</td>\n",
       "      <td>8.0</td>\n",
       "      <td>0.463947</td>\n",
       "      <td>5.824474</td>\n",
       "      <td>0.622235</td>\n",
       "      <td>2.385137</td>\n",
       "      <td>0.536053</td>\n",
       "      <td>3.319737</td>\n",
       "    </tr>\n",
       "    <tr>\n",
       "      <th>7</th>\n",
       "      <td>Everton</td>\n",
       "      <td>0.357895</td>\n",
       "      <td>0.284211</td>\n",
       "      <td>0.357895</td>\n",
       "      <td>51.47</td>\n",
       "      <td>9.0</td>\n",
       "      <td>0.451491</td>\n",
       "      <td>6.485088</td>\n",
       "      <td>0.605529</td>\n",
       "      <td>2.577882</td>\n",
       "      <td>0.548509</td>\n",
       "      <td>3.257456</td>\n",
       "    </tr>\n",
       "    <tr>\n",
       "      <th>18</th>\n",
       "      <td>West Ham United</td>\n",
       "      <td>0.342105</td>\n",
       "      <td>0.278947</td>\n",
       "      <td>0.378947</td>\n",
       "      <td>49.64</td>\n",
       "      <td>10.0</td>\n",
       "      <td>0.435439</td>\n",
       "      <td>7.210175</td>\n",
       "      <td>0.584000</td>\n",
       "      <td>2.802667</td>\n",
       "      <td>0.564561</td>\n",
       "      <td>2.741754</td>\n",
       "    </tr>\n",
       "    <tr>\n",
       "      <th>15</th>\n",
       "      <td>Southampton</td>\n",
       "      <td>0.336842</td>\n",
       "      <td>0.273684</td>\n",
       "      <td>0.389474</td>\n",
       "      <td>48.98</td>\n",
       "      <td>11.0</td>\n",
       "      <td>0.429649</td>\n",
       "      <td>7.844211</td>\n",
       "      <td>0.576235</td>\n",
       "      <td>2.977569</td>\n",
       "      <td>0.570351</td>\n",
       "      <td>2.718596</td>\n",
       "    </tr>\n",
       "    <tr>\n",
       "      <th>6</th>\n",
       "      <td>Crystal Palace</td>\n",
       "      <td>0.321053</td>\n",
       "      <td>0.215789</td>\n",
       "      <td>0.463158</td>\n",
       "      <td>44.64</td>\n",
       "      <td>12.0</td>\n",
       "      <td>0.391579</td>\n",
       "      <td>8.909474</td>\n",
       "      <td>0.525176</td>\n",
       "      <td>3.374118</td>\n",
       "      <td>0.608421</td>\n",
       "      <td>2.566316</td>\n",
       "    </tr>\n",
       "    <tr>\n",
       "      <th>2</th>\n",
       "      <td>Bournemoth</td>\n",
       "      <td>0.309211</td>\n",
       "      <td>0.236842</td>\n",
       "      <td>0.453947</td>\n",
       "      <td>44.19</td>\n",
       "      <td>13.0</td>\n",
       "      <td>0.387632</td>\n",
       "      <td>9.573158</td>\n",
       "      <td>0.519882</td>\n",
       "      <td>3.560627</td>\n",
       "      <td>0.612368</td>\n",
       "      <td>2.162895</td>\n",
       "    </tr>\n",
       "    <tr>\n",
       "      <th>17</th>\n",
       "      <td>Watford</td>\n",
       "      <td>0.315789</td>\n",
       "      <td>0.210526</td>\n",
       "      <td>0.473684</td>\n",
       "      <td>44.10</td>\n",
       "      <td>14.0</td>\n",
       "      <td>0.386842</td>\n",
       "      <td>10.197368</td>\n",
       "      <td>0.518824</td>\n",
       "      <td>3.726667</td>\n",
       "      <td>0.613158</td>\n",
       "      <td>2.160526</td>\n",
       "    </tr>\n",
       "    <tr>\n",
       "      <th>4</th>\n",
       "      <td>Burnley</td>\n",
       "      <td>0.282895</td>\n",
       "      <td>0.250000</td>\n",
       "      <td>0.467105</td>\n",
       "      <td>41.81</td>\n",
       "      <td>15.0</td>\n",
       "      <td>0.366754</td>\n",
       "      <td>11.131930</td>\n",
       "      <td>0.491882</td>\n",
       "      <td>4.048706</td>\n",
       "      <td>0.633246</td>\n",
       "      <td>2.100263</td>\n",
       "    </tr>\n",
       "    <tr>\n",
       "      <th>12</th>\n",
       "      <td>Newcastle United</td>\n",
       "      <td>0.282895</td>\n",
       "      <td>0.236842</td>\n",
       "      <td>0.480263</td>\n",
       "      <td>41.27</td>\n",
       "      <td>16.0</td>\n",
       "      <td>0.362018</td>\n",
       "      <td>11.845702</td>\n",
       "      <td>0.485529</td>\n",
       "      <td>4.258314</td>\n",
       "      <td>0.637982</td>\n",
       "      <td>1.724035</td>\n",
       "    </tr>\n",
       "    <tr>\n",
       "      <th>13</th>\n",
       "      <td>Norwich City</td>\n",
       "      <td>0.256579</td>\n",
       "      <td>0.269737</td>\n",
       "      <td>0.473684</td>\n",
       "      <td>39.42</td>\n",
       "      <td>17.0</td>\n",
       "      <td>0.345789</td>\n",
       "      <td>12.775789</td>\n",
       "      <td>0.463765</td>\n",
       "      <td>4.574902</td>\n",
       "      <td>0.654211</td>\n",
       "      <td>1.691579</td>\n",
       "    </tr>\n",
       "    <tr>\n",
       "      <th>14</th>\n",
       "      <td>Sheffield United</td>\n",
       "      <td>0.263158</td>\n",
       "      <td>0.210526</td>\n",
       "      <td>0.526316</td>\n",
       "      <td>38.04</td>\n",
       "      <td>18.0</td>\n",
       "      <td>0.333684</td>\n",
       "      <td>13.660000</td>\n",
       "      <td>0.447529</td>\n",
       "      <td>4.867294</td>\n",
       "      <td>0.666316</td>\n",
       "      <td>1.667368</td>\n",
       "    </tr>\n",
       "    <tr>\n",
       "      <th>3</th>\n",
       "      <td>Brighton</td>\n",
       "      <td>0.236842</td>\n",
       "      <td>0.289474</td>\n",
       "      <td>0.473684</td>\n",
       "      <td>37.91</td>\n",
       "      <td>19.0</td>\n",
       "      <td>0.332544</td>\n",
       "      <td>14.349123</td>\n",
       "      <td>0.446000</td>\n",
       "      <td>5.062667</td>\n",
       "      <td>0.667456</td>\n",
       "      <td>1.332544</td>\n",
       "    </tr>\n",
       "    <tr>\n",
       "      <th>1</th>\n",
       "      <td>Aston Villa</td>\n",
       "      <td>0.210526</td>\n",
       "      <td>0.273684</td>\n",
       "      <td>0.515789</td>\n",
       "      <td>34.40</td>\n",
       "      <td>20.0</td>\n",
       "      <td>0.301754</td>\n",
       "      <td>15.663158</td>\n",
       "      <td>0.404706</td>\n",
       "      <td>5.563922</td>\n",
       "      <td>0.698246</td>\n",
       "      <td>1.301754</td>\n",
       "    </tr>\n",
       "  </tbody>\n",
       "</table>\n",
       "</div>"
      ],
      "text/plain": [
       "                       Team  Win_Prob  Draw_Prob  Loss_Prob  predicted_points  \\\n",
       "10          Manchester City  0.684211   0.163158   0.152632             84.13   \n",
       "5                   Chelsea  0.578947   0.221053   0.200000             74.31   \n",
       "9                 Liverpool  0.563158   0.257895   0.178947             73.90   \n",
       "16       Tottenham Hotspurs  0.578947   0.200000   0.221053             73.50   \n",
       "0                   Arsenal  0.552632   0.205263   0.242105             70.72   \n",
       "11        Manchester United  0.531579   0.257895   0.210526             70.47   \n",
       "19  Wolverhampton Wanderers  0.421053   0.236842   0.342105             57.08   \n",
       "8            Leicester City  0.384211   0.242105   0.373684             52.89   \n",
       "7                   Everton  0.357895   0.284211   0.357895             51.47   \n",
       "18          West Ham United  0.342105   0.278947   0.378947             49.64   \n",
       "15              Southampton  0.336842   0.273684   0.389474             48.98   \n",
       "6            Crystal Palace  0.321053   0.215789   0.463158             44.64   \n",
       "2                Bournemoth  0.309211   0.236842   0.453947             44.19   \n",
       "17                  Watford  0.315789   0.210526   0.473684             44.10   \n",
       "4                   Burnley  0.282895   0.250000   0.467105             41.81   \n",
       "12         Newcastle United  0.282895   0.236842   0.480263             41.27   \n",
       "13             Norwich City  0.256579   0.269737   0.473684             39.42   \n",
       "14         Sheffield United  0.263158   0.210526   0.526316             38.04   \n",
       "3                  Brighton  0.236842   0.289474   0.473684             37.91   \n",
       "1               Aston Villa  0.210526   0.273684   0.515789             34.40   \n",
       "\n",
       "    predicted_position  winning_league_prob  winning_league_odds  top_4_prob  \\\n",
       "10                 1.0             0.737982             1.524035    0.989765   \n",
       "5                  2.0             0.651842             2.044474    0.874235   \n",
       "9                  3.0             0.648246             2.407018    0.869412   \n",
       "16                 4.0             0.644737             2.776316    0.864706   \n",
       "0                  5.0             0.620351             3.277895    0.832000   \n",
       "11                 6.0             0.618158             3.672895    0.829059   \n",
       "19                 7.0             0.500702             4.994386    0.671529   \n",
       "8                  8.0             0.463947             5.824474    0.622235   \n",
       "7                  9.0             0.451491             6.485088    0.605529   \n",
       "18                10.0             0.435439             7.210175    0.584000   \n",
       "15                11.0             0.429649             7.844211    0.576235   \n",
       "6                 12.0             0.391579             8.909474    0.525176   \n",
       "2                 13.0             0.387632             9.573158    0.519882   \n",
       "17                14.0             0.386842            10.197368    0.518824   \n",
       "4                 15.0             0.366754            11.131930    0.491882   \n",
       "12                16.0             0.362018            11.845702    0.485529   \n",
       "13                17.0             0.345789            12.775789    0.463765   \n",
       "14                18.0             0.333684            13.660000    0.447529   \n",
       "3                 19.0             0.332544            14.349123    0.446000   \n",
       "1                 20.0             0.301754            15.663158    0.404706   \n",
       "\n",
       "    top_4_odds  relegation_prob  relegation_odds  \n",
       "10    1.013647         0.262018         6.165877  \n",
       "5     1.209608         0.348158         5.562895  \n",
       "9     1.261176         0.351754         5.537719  \n",
       "16    1.315686         0.355263         4.868421  \n",
       "0     1.448000         0.379649         4.722105  \n",
       "11    1.512824         0.381842         4.708947  \n",
       "19    2.094902         0.499298         3.503509  \n",
       "8     2.385137         0.536053         3.319737  \n",
       "7     2.577882         0.548509         3.257456  \n",
       "18    2.802667         0.564561         2.741754  \n",
       "15    2.977569         0.570351         2.718596  \n",
       "6     3.374118         0.608421         2.566316  \n",
       "2     3.560627         0.612368         2.162895  \n",
       "17    3.726667         0.613158         2.160526  \n",
       "4     4.048706         0.633246         2.100263  \n",
       "12    4.258314         0.637982         1.724035  \n",
       "13    4.574902         0.654211         1.691579  \n",
       "14    4.867294         0.666316         1.667368  \n",
       "3     5.062667         0.667456         1.332544  \n",
       "1     5.563922         0.698246         1.301754  "
      ]
     },
     "execution_count": 168,
     "metadata": {},
     "output_type": "execute_result"
    }
   ],
   "source": [
    "df = PrepareData()\n",
    "df = df.sort_values(\"predicted_position\")\n",
    "df"
   ]
  },
  {
   "cell_type": "code",
   "execution_count": 3,
   "metadata": {},
   "outputs": [],
   "source": [
    "def GetProfits(total_revenue ,revenue_split, is_true_arr, odds):\n",
    "    profit = total_revenue\n",
    "    for i in range(len(odds)):\n",
    "        rev = total_revenue * revenue_split[i]\n",
    "        profit += (is_true_arr[i] * odds[i] * rev)\n",
    "    return profit\n",
    "league_winner_odds = list(df[\"winning_league_odds\"])\n",
    "top_4_odds = list(df[\"top_4_odds\"])\n",
    "relegation_odds = list(df[\"relegation_odds\"])\n",
    "revenue = 100"
   ]
  },
  {
   "cell_type": "code",
   "execution_count": 4,
   "metadata": {},
   "outputs": [],
   "source": [
    "def GetProfitReport(league_winner_profit, top_4_profit, relegation_profit):\n",
    "    league_winner_profit = round(league_winner_profit,2)\n",
    "    top_4_profit = round(top_4_profit,2)\n",
    "    relegation_profit = round(relegation_profit,2)\n",
    "    total_profit = round(league_winner_profit + top_4_profit + relegation_profit - _fixed_costs, 2)\n",
    "    html_string = \"\"\"\n",
    "    <table>\n",
    "        <tr>\n",
    "            <th>Betting Type</th>\n",
    "            <th>Profit</th>\n",
    "        </tr>\n",
    "        <tr>\n",
    "            <td>League Winner</td>\n",
    "            <td>{0}</td>\n",
    "        </tr>\n",
    "        <tr>\n",
    "            <td>Top 4</td>\n",
    "            <td>{1}</td>\n",
    "        </tr>\n",
    "        <tr>\n",
    "            <td>Relegation</td>\n",
    "            <td>{2}</td>\n",
    "        </tr>\n",
    "        <tr>\n",
    "            <td>Total</td>\n",
    "            <td>{3}</td>\n",
    "        </tr>\n",
    "    </table>\"\"\".format(league_winner_profit, top_4_profit, relegation_profit, total_profit)\n",
    "    display(HTML(html_string))\n",
    "    var = [league_winner_profit, top_4_profit, relegation_profit, total_profit]\n",
    "    labels = [\"League Winner Profit\", \"Top 4 Profit\", \"Relegation Profit\", \"Total Profit\"]\n",
    "    sns.barplot(x = labels, y = var)"
   ]
  },
  {
   "cell_type": "code",
   "execution_count": 54,
   "metadata": {},
   "outputs": [],
   "source": [
    "def GetProfitsByAmounts(bets, revenue_splits, is_true_arrs):\n",
    "    revenue_split_league = revenue_splits[0]\n",
    "    revenue_split_top_4 = revenue_splits[1]\n",
    "    revenue_split_relegation = revenue_splits[2]\n",
    "    is_true_arr_league = is_true_arrs[0]\n",
    "    is_true_arr_top_4 = is_true_arrs[1]\n",
    "    is_true_arr_relegation = is_true_arrs[2]\n",
    "    total_profits = []\n",
    "    \n",
    "    for bet in bets:\n",
    "        league_winner_profit = GetProfits(bet, revenue_split_league, is_true_arr_league, league_winner_odds)\n",
    "        top_4_profit = GetProfits(bet, revenue_split_top_4, is_true_arr_top_4, top_4_odds)\n",
    "        relegation_profit = GetProfits(bet, revenue_split_relegation, is_true_arr_relegation, relegation_odds)\n",
    "        total_profits.append(league_winner_profit + top_4_profit + relegation_profit - _fixed_costs)\n",
    "    print(total_profits)\n",
    "    sns.lineplot(x = bets, y = total_profits)"
   ]
  },
  {
   "cell_type": "markdown",
   "metadata": {},
   "source": [
    "## 3. Simulation Analysis"
   ]
  },
  {
   "cell_type": "markdown",
   "metadata": {},
   "source": [
    "### 3.1 Worst Case Analysis\n",
    "\n",
    "#### 3.1.1 Scenario\n",
    "    i) Average Bets of $1000 on each type\n",
    "    ii) All bets were made on highest possible odds\n",
    "    iii) Event with highest odds came true\n",
    "\n",
    "<h4>Observation:</h4> As expected the business is running at a loss"
   ]
  },
  {
   "cell_type": "code",
   "execution_count": 331,
   "metadata": {},
   "outputs": [],
   "source": [
    "revenue = 1000\n",
    "\n",
    "revenue_split_league = [0, 0, 0, 0, 0, 0, 0, 0, 0, 0, 0, 0, 0, 0, 0, 0, 0, 0, 0, 1]\n",
    "is_true_arr_league = [0, 0, 0, 0, 0, 0, 0, 0, 0, 0, 0, 0, 0, 0, 0, 0, 0, 0, 0, -1]\n",
    "league_winner_profit = GetProfits(revenue, revenue_split_league, is_true_arr_league, league_winner_odds)\n",
    "\n",
    "\n",
    "revenue_split_top_4 = [0, 0, 0, 0, 0, 0, 0, 0, 0, 0, 0, 0, 0, 0, 0, 0, 0, 0, 0, 1]\n",
    "is_true_arr_top_4 = [0, 0, 0, 0, 0, 0, 0, 0, 0, 0, 0, 0, 0, 0, 0, 0, 0, 0, 0, -1]\n",
    "top_4_profit = GetProfits(revenue, revenue_split_top_4, is_true_arr_league_top_4, top_4_odds)\n",
    "\n",
    "revenue_split_relegation = [1, 0, 0, 0, 0, 0, 0, 0, 0, 0, 0, 0, 0, 0, 0, 0, 0, 0, 0, 0]\n",
    "is_true_arr_relegation = [-1, 0, 0, 0, 0, 0, 0, 0, 0, 0, 0, 0, 0, 0, 0, 0, 0, 0, 0, 0]\n",
    "relegation_profit = GetProfits(revenue, revenue_split_relegation, is_true_arr_relegation, relegation_odds)"
   ]
  },
  {
   "cell_type": "code",
   "execution_count": 332,
   "metadata": {
    "scrolled": false
   },
   "outputs": [
    {
     "data": {
      "text/html": [
       "\n",
       "    <table>\n",
       "        <tr>\n",
       "            <th>Betting Type</th>\n",
       "            <th>Profit</th>\n",
       "        </tr>\n",
       "        <tr>\n",
       "            <td>League Winner</td>\n",
       "            <td>-14648.42</td>\n",
       "        </tr>\n",
       "        <tr>\n",
       "            <td>Top 4</td>\n",
       "            <td>-4556.71</td>\n",
       "        </tr>\n",
       "        <tr>\n",
       "            <td>Relegation</td>\n",
       "            <td>-5167.72</td>\n",
       "        </tr>\n",
       "        <tr>\n",
       "            <td>Total</td>\n",
       "            <td>-25372.85</td>\n",
       "        </tr>\n",
       "    </table>"
      ],
      "text/plain": [
       "<IPython.core.display.HTML object>"
      ]
     },
     "metadata": {},
     "output_type": "display_data"
    },
    {
     "data": {
      "image/png": "[encoded data removed]",
      "text/plain": [
       "<Figure size 432x288 with 1 Axes>"
      ]
     },
     "metadata": {
      "needs_background": "light"
     },
     "output_type": "display_data"
    }
   ],
   "source": [
    "GetProfitReport(league_winner_profit, top_4_profit, relegation_profit)"
   ]
  },
  {
   "cell_type": "markdown",
   "metadata": {},
   "source": [
    "\n",
    "#### 3.1.2 Scenario \n",
    "    i) How profits change with increase in average bet amount\n",
    "    ii) All bets were made on highest possible odds\n",
    "    iii) Event with highest odds came true\n",
    "    \n",
    "<h4>Observation:</h4> As expected loss is steeply increasing with increase in average betting amount"
   ]
  },
  {
   "cell_type": "code",
   "execution_count": 69,
   "metadata": {
    "scrolled": true
   },
   "outputs": [
    {
     "name": "stdout",
     "output_type": "stream",
     "text": [
      "[-1243.7284623323014, -3437.2846233230134, -13186.423116615068, -25372.846233230135, -122864.23116615068]\n"
     ]
    },
    {
     "data": {
      "image/png": "[encoded data removed]",
      "text/plain": [
       "<Figure size 432x288 with 1 Axes>"
      ]
     },
     "metadata": {
      "needs_background": "light"
     },
     "output_type": "display_data"
    }
   ],
   "source": [
    "bets = [10, 100, 500, 1000, 5000]\n",
    "revenue_splits = [revenue_split_league, revenue_split_top_4, revenue_split_relegation]\n",
    "is_true_arrs = [is_true_arr_league, is_true_arr_top_4, is_true_arr_relegation]\n",
    "    \n",
    "GetProfitsByAmounts(bets, revenue_splits,is_true_arrs)"
   ]
  },
  {
   "cell_type": "markdown",
   "metadata": {},
   "source": [
    "### 3.2 Best Case Analysis\n",
    "\n",
    "#### 3.2.1 Scenario\n",
    "    i) Average Bets of $1000 on each type\n",
    "    ii) None of the bets were successful\n",
    "\n",
    "<h4>Observation:</h4> At an average bets of around 1000 dollars our business is still at a lost. But one can easily see that once the average bets raise to a minimum of 3334 for each type, business starts profiting"
   ]
  },
  {
   "cell_type": "code",
   "execution_count": 72,
   "metadata": {},
   "outputs": [],
   "source": [
    "revenue = 1000\n",
    "\n",
    "revenue_split_league = [0, 0, 0, 0, 0, 0, 0, 0, 0, 0, 0, 0, 0, 0, 0, 0, 0, 0, 0, 1]\n",
    "is_true_arr_league = [-1, 0, 0, 0, 0, 0, 0, 0, 0, 0, 0, 0, 0, 0, 0, 0, 0, 0, 0, 0]\n",
    "league_winner_profit = GetProfits(revenue, revenue_split_league, is_true_arr_league, league_winner_odds)\n",
    "\n",
    "\n",
    "revenue_split_top_4 = [0, 0, 0, 0, 0, 0, 0, 0, 0, 0, 0, 0, 0, 0, 0, 0, 0, 0, 0, 1]\n",
    "is_true_arr_top_4 = [-1, 0, 0, 0, 0, 0, 0, 0, 0, 0, 0, 0, 0, 0, 0, 0, 0, 0, 0, 0]\n",
    "top_4_profit = GetProfits(revenue, revenue_split_top_4, is_true_arr_top_4, top_4_odds)\n",
    "\n",
    "revenue_split_relegation = [1, 0, 0, 0, 0, 0, 0, 0, 0, 0, 0, 0, 0, 0, 0, 0, 0, 0, 0, 0]\n",
    "is_true_arr_relegation = [0, 0, 0, 0, 0, 0, 0, 0, 0, 0, 0, 0, 0, 0, 0, 0, 0, 0, 0, -1]\n",
    "relegation_profit = GetProfits(revenue, revenue_split_relegation, is_true_arr_relegation, relegation_odds)"
   ]
  },
  {
   "cell_type": "code",
   "execution_count": 73,
   "metadata": {
    "scrolled": false
   },
   "outputs": [
    {
     "data": {
      "text/html": [
       "\n",
       "    <table>\n",
       "        <tr>\n",
       "            <th>Betting Type</th>\n",
       "            <th>Profit</th>\n",
       "        </tr>\n",
       "        <tr>\n",
       "            <td>League Winner</td>\n",
       "            <td>1000.0</td>\n",
       "        </tr>\n",
       "        <tr>\n",
       "            <td>Top 4</td>\n",
       "            <td>1000.0</td>\n",
       "        </tr>\n",
       "        <tr>\n",
       "            <td>Relegation</td>\n",
       "            <td>1000.0</td>\n",
       "        </tr>\n",
       "        <tr>\n",
       "            <td>Total</td>\n",
       "            <td>2000.0</td>\n",
       "        </tr>\n",
       "    </table>"
      ],
      "text/plain": [
       "<IPython.core.display.HTML object>"
      ]
     },
     "metadata": {},
     "output_type": "display_data"
    },
    {
     "data": {
      "image/png": "[encoded data removed]",
      "text/plain": [
       "<Figure size 432x288 with 1 Axes>"
      ]
     },
     "metadata": {
      "needs_background": "light"
     },
     "output_type": "display_data"
    }
   ],
   "source": [
    "GetProfitReport(league_winner_profit, top_4_profit, relegation_profit)"
   ]
  },
  {
   "cell_type": "markdown",
   "metadata": {},
   "source": [
    "\n",
    "#### 3.2.2 Scenario \n",
    "    i) How profits change with increase in average bet amount\n",
    "    ii) Event with With no bets came true\n",
    "    \n",
    "<h4>Observation:</h4> As expected profit steeply increases with increase in average bets on unsuccessful events."
   ]
  },
  {
   "cell_type": "code",
   "execution_count": 74,
   "metadata": {
    "scrolled": false
   },
   "outputs": [
    {
     "name": "stdout",
     "output_type": "stream",
     "text": [
      "[-970.0, -700.0, 500.0, 2000.0, 14000.0]\n"
     ]
    },
    {
     "data": {
      "image/png": "[encoded data removed]",
      "text/plain": [
       "<Figure size 432x288 with 1 Axes>"
      ]
     },
     "metadata": {
      "needs_background": "light"
     },
     "output_type": "display_data"
    }
   ],
   "source": [
    "bets = [10, 100, 500, 1000, 5000]\n",
    "revenue_splits = [revenue_split_league, revenue_split_top_4, revenue_split_relegation]\n",
    "is_true_arrs = [is_true_arr_league, is_true_arr_top_4, is_true_arr_relegation]\n",
    "    \n",
    "GetProfitsByAmounts(bets, revenue_splits,is_true_arrs)"
   ]
  },
  {
   "cell_type": "markdown",
   "metadata": {},
   "source": [
    "### 3.3 Risk Based Simulation and Analysis"
   ]
  },
  {
   "cell_type": "markdown",
   "metadata": {},
   "source": [
    "#### 3.3.1 Defining Risk Based Probabilities\n"
   ]
  },
  {
   "cell_type": "code",
   "execution_count": 182,
   "metadata": {},
   "outputs": [],
   "source": [
    "df = df.round(5)\n",
    "sum_val = df[\"winning_league_prob\"].sum()\n",
    "df[\"winning_league_risk\"] = df[\"winning_league_prob\"].apply(lambda x: x/sum_val)\n",
    "sum_val = df[\"top_4_prob\"].sum()\n",
    "df[\"top_4_risk\"] = df[\"top_4_prob\"].apply(lambda x: x/sum_val)\n",
    "sum_val = df[\"relegation_prob\"].sum()\n",
    "df[\"relegation_risk\"] = df[\"relegation_prob\"].apply(lambda x: x/sum_val)"
   ]
  },
  {
   "cell_type": "code",
   "execution_count": 330,
   "metadata": {},
   "outputs": [],
   "source": [
    "df.to_csv(\"Betting_Model.csv\", index = False)"
   ]
  },
  {
   "cell_type": "code",
   "execution_count": 183,
   "metadata": {
    "scrolled": true
   },
   "outputs": [
    {
     "data": {
      "text/html": [
       "<div>\n",
       "<style scoped>\n",
       "    .dataframe tbody tr th:only-of-type {\n",
       "        vertical-align: middle;\n",
       "    }\n",
       "\n",
       "    .dataframe tbody tr th {\n",
       "        vertical-align: top;\n",
       "    }\n",
       "\n",
       "    .dataframe thead th {\n",
       "        text-align: right;\n",
       "    }\n",
       "</style>\n",
       "<table border=\"1\" class=\"dataframe\">\n",
       "  <thead>\n",
       "    <tr style=\"text-align: right;\">\n",
       "      <th></th>\n",
       "      <th>Team</th>\n",
       "      <th>Win_Prob</th>\n",
       "      <th>Draw_Prob</th>\n",
       "      <th>Loss_Prob</th>\n",
       "      <th>predicted_points</th>\n",
       "      <th>predicted_position</th>\n",
       "      <th>winning_league_prob</th>\n",
       "      <th>winning_league_odds</th>\n",
       "      <th>top_4_prob</th>\n",
       "      <th>top_4_odds</th>\n",
       "      <th>relegation_prob</th>\n",
       "      <th>relegation_odds</th>\n",
       "      <th>winning_league_risk</th>\n",
       "      <th>top_4_risk</th>\n",
       "      <th>relegation_risk</th>\n",
       "    </tr>\n",
       "  </thead>\n",
       "  <tbody>\n",
       "    <tr>\n",
       "      <th>10</th>\n",
       "      <td>Manchester City</td>\n",
       "      <td>0.68421</td>\n",
       "      <td>0.16316</td>\n",
       "      <td>0.15263</td>\n",
       "      <td>84.13</td>\n",
       "      <td>1.0</td>\n",
       "      <td>0.73798</td>\n",
       "      <td>1.52404</td>\n",
       "      <td>0.98976</td>\n",
       "      <td>1.01365</td>\n",
       "      <td>0.26202</td>\n",
       "      <td>6.16588</td>\n",
       "      <td>0.078416</td>\n",
       "      <td>0.078415</td>\n",
       "      <td>0.024745</td>\n",
       "    </tr>\n",
       "    <tr>\n",
       "      <th>5</th>\n",
       "      <td>Chelsea</td>\n",
       "      <td>0.57895</td>\n",
       "      <td>0.22105</td>\n",
       "      <td>0.20000</td>\n",
       "      <td>74.31</td>\n",
       "      <td>2.0</td>\n",
       "      <td>0.65184</td>\n",
       "      <td>2.04447</td>\n",
       "      <td>0.87424</td>\n",
       "      <td>1.20961</td>\n",
       "      <td>0.34816</td>\n",
       "      <td>5.56289</td>\n",
       "      <td>0.069263</td>\n",
       "      <td>0.069263</td>\n",
       "      <td>0.032880</td>\n",
       "    </tr>\n",
       "    <tr>\n",
       "      <th>9</th>\n",
       "      <td>Liverpool</td>\n",
       "      <td>0.56316</td>\n",
       "      <td>0.25789</td>\n",
       "      <td>0.17895</td>\n",
       "      <td>73.90</td>\n",
       "      <td>3.0</td>\n",
       "      <td>0.64825</td>\n",
       "      <td>2.40702</td>\n",
       "      <td>0.86941</td>\n",
       "      <td>1.26118</td>\n",
       "      <td>0.35175</td>\n",
       "      <td>5.53772</td>\n",
       "      <td>0.068881</td>\n",
       "      <td>0.068880</td>\n",
       "      <td>0.033219</td>\n",
       "    </tr>\n",
       "    <tr>\n",
       "      <th>16</th>\n",
       "      <td>Tottenham Hotspurs</td>\n",
       "      <td>0.57895</td>\n",
       "      <td>0.20000</td>\n",
       "      <td>0.22105</td>\n",
       "      <td>73.50</td>\n",
       "      <td>4.0</td>\n",
       "      <td>0.64474</td>\n",
       "      <td>2.77632</td>\n",
       "      <td>0.86471</td>\n",
       "      <td>1.31569</td>\n",
       "      <td>0.35526</td>\n",
       "      <td>4.86842</td>\n",
       "      <td>0.068508</td>\n",
       "      <td>0.068508</td>\n",
       "      <td>0.033550</td>\n",
       "    </tr>\n",
       "    <tr>\n",
       "      <th>0</th>\n",
       "      <td>Arsenal</td>\n",
       "      <td>0.55263</td>\n",
       "      <td>0.20526</td>\n",
       "      <td>0.24211</td>\n",
       "      <td>70.72</td>\n",
       "      <td>5.0</td>\n",
       "      <td>0.62035</td>\n",
       "      <td>3.27789</td>\n",
       "      <td>0.83200</td>\n",
       "      <td>1.44800</td>\n",
       "      <td>0.37965</td>\n",
       "      <td>4.72211</td>\n",
       "      <td>0.065917</td>\n",
       "      <td>0.065917</td>\n",
       "      <td>0.035854</td>\n",
       "    </tr>\n",
       "  </tbody>\n",
       "</table>\n",
       "</div>"
      ],
      "text/plain": [
       "                  Team  Win_Prob  Draw_Prob  Loss_Prob  predicted_points  \\\n",
       "10     Manchester City   0.68421    0.16316    0.15263             84.13   \n",
       "5              Chelsea   0.57895    0.22105    0.20000             74.31   \n",
       "9            Liverpool   0.56316    0.25789    0.17895             73.90   \n",
       "16  Tottenham Hotspurs   0.57895    0.20000    0.22105             73.50   \n",
       "0              Arsenal   0.55263    0.20526    0.24211             70.72   \n",
       "\n",
       "    predicted_position  winning_league_prob  winning_league_odds  top_4_prob  \\\n",
       "10                 1.0              0.73798              1.52404     0.98976   \n",
       "5                  2.0              0.65184              2.04447     0.87424   \n",
       "9                  3.0              0.64825              2.40702     0.86941   \n",
       "16                 4.0              0.64474              2.77632     0.86471   \n",
       "0                  5.0              0.62035              3.27789     0.83200   \n",
       "\n",
       "    top_4_odds  relegation_prob  relegation_odds  winning_league_risk  \\\n",
       "10     1.01365          0.26202          6.16588             0.078416   \n",
       "5      1.20961          0.34816          5.56289             0.069263   \n",
       "9      1.26118          0.35175          5.53772             0.068881   \n",
       "16     1.31569          0.35526          4.86842             0.068508   \n",
       "0      1.44800          0.37965          4.72211             0.065917   \n",
       "\n",
       "    top_4_risk  relegation_risk  \n",
       "10    0.078415         0.024745  \n",
       "5     0.069263         0.032880  \n",
       "9     0.068880         0.033219  \n",
       "16    0.068508         0.033550  \n",
       "0     0.065917         0.035854  "
      ]
     },
     "execution_count": 183,
     "metadata": {},
     "output_type": "execute_result"
    }
   ],
   "source": [
    "df.head()"
   ]
  },
  {
   "cell_type": "markdown",
   "metadata": {},
   "source": [
    "#### 3.3.2 Uniformly Distributed Revenue\n",
    "\n",
    "i) Bets are assumed to be uniformly distributed although this is very rarely the case."
   ]
  },
  {
   "cell_type": "markdown",
   "metadata": {},
   "source": [
    "##### 3.3.2.1 Worst Case Analysis\n",
    "    i) Event with high return comes true.\n",
    "    \n",
    "<h6>Observation: </h6> For the business to be profitable, Average betting amount should be little more than 1000 dollars."
   ]
  },
  {
   "cell_type": "code",
   "execution_count": 82,
   "metadata": {},
   "outputs": [],
   "source": [
    "revenue = 1000\n",
    "\n",
    "revenue_split_league = [1/20.]*20\n",
    "is_true_arr_league = [0, 0, 0, 0, 0, 0, 0, 0, 0, 0, 0, 0, 0, 0, 0, 0, 0, 0, 0, -1]\n",
    "league_winner_profit = GetProfits(revenue, revenue_split_league, is_true_arr_league, league_winner_odds)\n",
    "\n",
    "\n",
    "revenue_split_top_4 = [1/20.]*20\n",
    "is_true_arr_top_4 = [0, 0, 0, 0, 0, 0, 0, 0, 0, 0, 0, 0, 0, 0, 0, 0, -1, -1, -1, -1]\n",
    "top_4_profit = GetProfits(revenue, revenue_split_top_4, is_true_arr_top_4, top_4_odds)\n",
    "\n",
    "revenue_split_relegation = [1/20.]*20\n",
    "is_true_arr_relegation = [-1, -1, -1, 0, 0, 0, 0, 0, 0, 0, 0, 0, 0, 0, 0, 0, 0, 0, 0, 0]\n",
    "relegation_profit = GetProfits(revenue, revenue_split_relegation, is_true_arr_relegation, relegation_odds)"
   ]
  },
  {
   "cell_type": "code",
   "execution_count": 83,
   "metadata": {
    "scrolled": false
   },
   "outputs": [
    {
     "data": {
      "text/html": [
       "\n",
       "    <table>\n",
       "        <tr>\n",
       "            <th>Betting Type</th>\n",
       "            <th>Profit</th>\n",
       "        </tr>\n",
       "        <tr>\n",
       "            <td>League Winner</td>\n",
       "            <td>217.58</td>\n",
       "        </tr>\n",
       "        <tr>\n",
       "            <td>Top 4</td>\n",
       "            <td>-2.6</td>\n",
       "        </tr>\n",
       "        <tr>\n",
       "            <td>Relegation</td>\n",
       "            <td>136.4</td>\n",
       "        </tr>\n",
       "        <tr>\n",
       "            <td>Total</td>\n",
       "            <td>-648.62</td>\n",
       "        </tr>\n",
       "    </table>"
      ],
      "text/plain": [
       "<IPython.core.display.HTML object>"
      ]
     },
     "metadata": {},
     "output_type": "display_data"
    },
    {
     "data": {
      "image/png": "[encoded data removed]",
      "text/plain": [
       "<Figure size 432x288 with 1 Axes>"
      ]
     },
     "metadata": {
      "needs_background": "light"
     },
     "output_type": "display_data"
    }
   ],
   "source": [
    "GetProfitReport(league_winner_profit, top_4_profit, relegation_profit)"
   ]
  },
  {
   "cell_type": "code",
   "execution_count": 81,
   "metadata": {
    "scrolled": true
   },
   "outputs": [
    {
     "name": "stdout",
     "output_type": "stream",
     "text": [
      "[-990.9340701754386, -909.3407017543859, -546.7035087719298, -93.40701754385975, 3532.9649122807023]\n"
     ]
    },
    {
     "data": {
      "image/png": "[encoded data removed]",
      "text/plain": [
       "<Figure size 432x288 with 1 Axes>"
      ]
     },
     "metadata": {
      "needs_background": "light"
     },
     "output_type": "display_data"
    }
   ],
   "source": [
    "bets = [10, 100, 500, 1000, 5000]\n",
    "revenue_splits = [revenue_split_league, revenue_split_top_4, revenue_split_relegation]\n",
    "is_true_arrs = [is_true_arr_league, is_true_arr_top_4, is_true_arr_relegation]\n",
    "    \n",
    "GetProfitsByAmounts(bets, revenue_splits,is_true_arrs)"
   ]
  },
  {
   "cell_type": "markdown",
   "metadata": {},
   "source": [
    "##### 3.3.2.2 Best Case Analysis\n",
    "    i) Event with Least return comes true.\n",
    "    \n",
    "<h6>Observation: </h6> For the business to be profitable, total betting amount should be little more than 400 dollars for each category."
   ]
  },
  {
   "cell_type": "code",
   "execution_count": 84,
   "metadata": {},
   "outputs": [],
   "source": [
    "revenue = 1000\n",
    "\n",
    "revenue_split_league = [1/20.]*20\n",
    "is_true_arr_league = [-1, 0, 0, 0, 0, 0, 0, 0, 0, 0, 0, 0, 0, 0, 0, 0, 0, 0, 0, 0]\n",
    "league_winner_profit = GetProfits(revenue, revenue_split_league, is_true_arr_league, league_winner_odds)\n",
    "\n",
    "\n",
    "revenue_split_top_4 = [1/20.]*20\n",
    "is_true_arr_top_4 = [-1, -1, -1, -1, 0, 0, 0, 0, 0, 0, 0, 0, 0, 0, 0, 0, 0, 0, 0, 0]\n",
    "top_4_profit = GetProfits(revenue, revenue_split_top_4, is_true_arr_top_4, top_4_odds)\n",
    "\n",
    "revenue_split_relegation = [1/20.]*20\n",
    "is_true_arr_relegation = [0, 0, 0, 0, 0, 0, 0, 0, 0, 0, 0, 0, 0, 0, 0, 0, 0, -1, -1, -1]\n",
    "relegation_profit = GetProfits(revenue, revenue_split_relegation, is_true_arr_relegation, relegation_odds)"
   ]
  },
  {
   "cell_type": "code",
   "execution_count": 85,
   "metadata": {
    "scrolled": false
   },
   "outputs": [
    {
     "data": {
      "text/html": [
       "\n",
       "    <table>\n",
       "        <tr>\n",
       "            <th>Betting Type</th>\n",
       "            <th>Profit</th>\n",
       "        </tr>\n",
       "        <tr>\n",
       "            <td>League Winner</td>\n",
       "            <td>923.82</td>\n",
       "        </tr>\n",
       "        <tr>\n",
       "            <td>Top 4</td>\n",
       "            <td>760.23</td>\n",
       "        </tr>\n",
       "        <tr>\n",
       "            <td>Relegation</td>\n",
       "            <td>784.75</td>\n",
       "        </tr>\n",
       "        <tr>\n",
       "            <td>Total</td>\n",
       "            <td>1468.8</td>\n",
       "        </tr>\n",
       "    </table>"
      ],
      "text/plain": [
       "<IPython.core.display.HTML object>"
      ]
     },
     "metadata": {},
     "output_type": "display_data"
    },
    {
     "data": {
      "image/png": "[encoded data removed]",
      "text/plain": [
       "<Figure size 432x288 with 1 Axes>"
      ]
     },
     "metadata": {
      "needs_background": "light"
     },
     "output_type": "display_data"
    }
   ],
   "source": [
    "GetProfitReport(league_winner_profit, top_4_profit, relegation_profit)"
   ]
  },
  {
   "cell_type": "code",
   "execution_count": 93,
   "metadata": {
    "scrolled": true
   },
   "outputs": [
    {
     "name": "stdout",
     "output_type": "stream",
     "text": [
      "[-975.3119602683179, -753.1196026831785, 234.40198658410736, 1468.8039731682147, 11344.019865841074]\n"
     ]
    },
    {
     "data": {
      "image/png": "[encoded data removed]",
      "text/plain": [
       "<Figure size 432x288 with 1 Axes>"
      ]
     },
     "metadata": {
      "needs_background": "light"
     },
     "output_type": "display_data"
    }
   ],
   "source": [
    "bets = [10, 100, 500, 1000, 5000]\n",
    "revenue_splits = [revenue_split_league, revenue_split_top_4, revenue_split_relegation]\n",
    "is_true_arrs = [is_true_arr_league, is_true_arr_top_4, is_true_arr_relegation]\n",
    "    \n",
    "GetProfitsByAmounts(bets, revenue_splits,is_true_arrs)"
   ]
  },
  {
   "cell_type": "markdown",
   "metadata": {},
   "source": [
    "#### 3.3.3 Risk Based Revenue Distribution\n",
    "\n",
    "Since the states are discrete, we will draw revenue from a multinomial distribution. Probablities for each team are already standardized such that they sum to 1 at the risk classification step.\n"
   ]
  },
  {
   "cell_type": "markdown",
   "metadata": {},
   "source": [
    "##### 3.3.3.1 Worst Case Analysis\n",
    "    i) Event with high return comes true.\n",
    "    \n",
    "<h6>Observation: </h6> For the business to be profitable, Average betting amount should be little more than 500 dollars, which is a marked improvement over the overall worst case and the uniform distribution worst case."
   ]
  },
  {
   "cell_type": "code",
   "execution_count": 243,
   "metadata": {},
   "outputs": [],
   "source": [
    "revenue = 1\n",
    "league_winner_profit = 0\n",
    "top_4_profit = 0\n",
    "relegation_profit = 0\n",
    "for i in range(10000):\n",
    "    revenue_split_league = np.random.multinomial(1000, list(df[\"winning_league_risk\"]), size=1).tolist()[0]\n",
    "    is_true_arr_league = [0, 0, 0, 0, 0, 0, 0, 0, 0, 0, 0, 0, 0, 0, 0, 0, 0, 0, 0, -1]\n",
    "    league_winner_profit += GetProfits(revenue, revenue_split_league, is_true_arr_league, league_winner_odds)\n",
    "\n",
    "\n",
    "    revenue_split_top_4 = np.random.multinomial(1000, list(df[\"top_4_risk\"]), size=1).tolist()[0]\n",
    "    is_true_arr_top_4 = [0, 0, 0, 0, 0, 0, 0, 0, 0, 0, 0, 0, 0, 0, 0, 0, -1, -1, -1, -1]\n",
    "    top_4_profit += GetProfits(revenue, revenue_split_top_4, is_true_arr_top_4, top_4_odds)\n",
    "\n",
    "    revenue_split_relegation = np.random.multinomial(1000, list(df[\"relegation_risk\"]), size=1).tolist()[0]\n",
    "    is_true_arr_relegation = [-1, -1, -1, 0, 0, 0, 0, 0, 0, 0, 0, 0, 0, 0, 0, 0, 0, 0, 0, 0]\n",
    "    relegation_profit += GetProfits(revenue, revenue_split_relegation, is_true_arr_relegation, relegation_odds)\n",
    "\n",
    "league_winner_profit = (league_winner_profit/10000) + 999\n",
    "top_4_profit = (top_4_profit/10000) + 999\n",
    "relegation_profit = (relegation_profit/10000) + 999"
   ]
  },
  {
   "cell_type": "code",
   "execution_count": 244,
   "metadata": {
    "scrolled": false
   },
   "outputs": [
    {
     "data": {
      "text/html": [
       "\n",
       "    <table>\n",
       "        <tr>\n",
       "            <th>Betting Type</th>\n",
       "            <th>Profit</th>\n",
       "        </tr>\n",
       "        <tr>\n",
       "            <td>League Winner</td>\n",
       "            <td>498.85</td>\n",
       "        </tr>\n",
       "        <tr>\n",
       "            <td>Top 4</td>\n",
       "            <td>302.08</td>\n",
       "        </tr>\n",
       "        <tr>\n",
       "            <td>Relegation</td>\n",
       "            <td>480.35</td>\n",
       "        </tr>\n",
       "        <tr>\n",
       "            <td>Total</td>\n",
       "            <td>281.28</td>\n",
       "        </tr>\n",
       "    </table>"
      ],
      "text/plain": [
       "<IPython.core.display.HTML object>"
      ]
     },
     "metadata": {},
     "output_type": "display_data"
    },
    {
     "data": {
      "image/png": "[encoded data removed]",
      "text/plain": [
       "<Figure size 432x288 with 1 Axes>"
      ]
     },
     "metadata": {
      "needs_background": "light"
     },
     "output_type": "display_data"
    }
   ],
   "source": [
    "GetProfitReport(league_winner_profit, top_4_profit, relegation_profit)"
   ]
  },
  {
   "cell_type": "code",
   "execution_count": 245,
   "metadata": {
    "scrolled": true
   },
   "outputs": [
    {
     "name": "stdout",
     "output_type": "stream",
     "text": [
      "[-987.7058609700722, -877.0586097007224, -385.293048503612, 229.413902992776, 5147.06951496388]\n"
     ]
    },
    {
     "data": {
      "image/png": "[encoded data removed]",
      "text/plain": [
       "<Figure size 432x288 with 1 Axes>"
      ]
     },
     "metadata": {
      "needs_background": "light"
     },
     "output_type": "display_data"
    }
   ],
   "source": [
    "bets = [10, 100, 500, 1000, 5000]\n",
    "revenue_split_league = [i/1000 for i in revenue_split_league]\n",
    "revenue_split_top_4 = [i/1000 for i in revenue_split_top_4]\n",
    "revenue_split_relegation = [i/1000 for i in revenue_split_relegation]\n",
    "revenue_splits = [revenue_split_league, revenue_split_top_4, revenue_split_relegation]\n",
    "is_true_arrs = [is_true_arr_league, is_true_arr_top_4, is_true_arr_relegation]\n",
    "    \n",
    "GetProfitsByAmounts(bets, revenue_splits,is_true_arrs)"
   ]
  },
  {
   "cell_type": "markdown",
   "metadata": {},
   "source": [
    "##### 3.3.3.2 Best Case Analysis\n",
    "    i) Event with Least return comes true.\n",
    "    \n",
    "<h6>Observation: </h6> For the business to be profitable, total betting amount should be little more than 300 dollars for each category."
   ]
  },
  {
   "cell_type": "code",
   "execution_count": 246,
   "metadata": {},
   "outputs": [],
   "source": [
    "revenue = 1\n",
    "league_winner_profit = 0\n",
    "top_4_profit = 0\n",
    "relegation_profit = 0\n",
    "for i in range(10000):\n",
    "    revenue_split_league = np.random.multinomial(1000, list(df[\"winning_league_risk\"]), size=1).tolist()[0]\n",
    "    is_true_arr_league = [-1, 0, 0, 0, 0, 0, 0, 0, 0, 0, 0, 0, 0, 0, 0, 0, 0, 0, 0, 0]\n",
    "    league_winner_profit += GetProfits(revenue, revenue_split_league, is_true_arr_league, league_winner_odds)\n",
    "\n",
    "\n",
    "    revenue_split_top_4 = np.random.multinomial(1000, list(df[\"top_4_risk\"]), size=1).tolist()[0]\n",
    "    is_true_arr_top_4 = [-1, -1, -1, -1, 0, 0, 0, 0, 0, 0, 0, 0, 0, 0, 0, 0, 0, 0, 0, 0]\n",
    "    top_4_profit += GetProfits(revenue, revenue_split_top_4, is_true_arr_top_4, top_4_odds)\n",
    "\n",
    "    revenue_split_relegation = np.random.multinomial(1000, list(df[\"relegation_risk\"]), size=1).tolist()[0]\n",
    "    is_true_arr_relegation = [0, 0, 0, 0, 0, 0, 0, 0, 0, 0, 0, 0, 0, 0, 0, 0, 0, -1, -1, -1]\n",
    "    relegation_profit += GetProfits(revenue, revenue_split_relegation, is_true_arr_relegation, relegation_odds)\n",
    "\n",
    "league_winner_profit = (league_winner_profit/10000) + 999\n",
    "top_4_profit = (top_4_profit/10000) + 999\n",
    "relegation_profit = (relegation_profit/10000) + 999"
   ]
  },
  {
   "cell_type": "code",
   "execution_count": 247,
   "metadata": {
    "scrolled": false
   },
   "outputs": [
    {
     "data": {
      "text/html": [
       "\n",
       "    <table>\n",
       "        <tr>\n",
       "            <th>Betting Type</th>\n",
       "            <th>Profit</th>\n",
       "        </tr>\n",
       "        <tr>\n",
       "            <td>League Winner</td>\n",
       "            <td>880.43</td>\n",
       "        </tr>\n",
       "        <tr>\n",
       "            <td>Top 4</td>\n",
       "            <td>659.95</td>\n",
       "        </tr>\n",
       "        <tr>\n",
       "            <td>Relegation</td>\n",
       "            <td>724.89</td>\n",
       "        </tr>\n",
       "        <tr>\n",
       "            <td>Total</td>\n",
       "            <td>1265.27</td>\n",
       "        </tr>\n",
       "    </table>"
      ],
      "text/plain": [
       "<IPython.core.display.HTML object>"
      ]
     },
     "metadata": {},
     "output_type": "display_data"
    },
    {
     "data": {
      "image/png": "[encoded data removed]",
      "text/plain": [
       "<Figure size 432x288 with 1 Axes>"
      ]
     },
     "metadata": {
      "needs_background": "light"
     },
     "output_type": "display_data"
    }
   ],
   "source": [
    "GetProfitReport(league_winner_profit, top_4_profit, relegation_profit)"
   ]
  },
  {
   "cell_type": "code",
   "execution_count": 242,
   "metadata": {
    "scrolled": false
   },
   "outputs": [
    {
     "name": "stdout",
     "output_type": "stream",
     "text": [
      "[-970.0, -700.0, 500.0, 2000.0, 14000.0]\n"
     ]
    },
    {
     "data": {
      "image/png": "[encoded data removed]",
      "text/plain": [
       "<Figure size 432x288 with 1 Axes>"
      ]
     },
     "metadata": {
      "needs_background": "light"
     },
     "output_type": "display_data"
    }
   ],
   "source": [
    "bets = [10, 100, 500, 1000, 5000]\n",
    "revenue_split_league = [i/1000 for i in revenue_split_league]\n",
    "revenue_split_top_4 = [i/1000 for i in revenue_split_top_4]\n",
    "revenue_split_relegation = [i/1000 for i in revenue_split_relegation]\n",
    "revenue_splits = [revenue_split_league, revenue_split_top_4, revenue_split_relegation]\n",
    "is_true_arrs = [is_true_arr_league, is_true_arr_top_4, is_true_arr_relegation]\n",
    "    \n",
    "GetProfitsByAmounts(bets, revenue_splits,is_true_arrs)"
   ]
  },
  {
   "cell_type": "markdown",
   "metadata": {},
   "source": [
    "##### 3.3.3.3 In-Between Analysis - I\n",
    "    i)Undesirable events with not the worst penalties (i.e worst case scenario excluded) come true\n",
    "    \n",
    "<h6>Observation: </h6> Overall below simulation is able to demonstrate that in some case, even if an undesirable outcome happens, which is not so often, our model is able to churn substantial profit."
   ]
  },
  {
   "cell_type": "code",
   "execution_count": 268,
   "metadata": {},
   "outputs": [],
   "source": [
    "revenue = 1\n",
    "league_winner_profit = 0\n",
    "top_4_profit = 0\n",
    "relegation_profit = 0\n",
    "\n",
    "for i in range(10000):\n",
    "    revenue_split_league = np.random.multinomial(1000, list(df[\"winning_league_risk\"]), size=1).tolist()[0]\n",
    "    for x in range(1,6):\n",
    "        empty_list = [0.] * 20\n",
    "        is_true_arr_league = is_true_arr_league = [-1 if idx == x else 0 for idx,j in enumerate(empty_list)]\n",
    "        league_winner_profit += GetProfits(revenue, revenue_split_league, is_true_arr_league, league_winner_odds)\n",
    "\n",
    "    revenue_split_top_4 = np.random.multinomial(1000, list(df[\"top_4_risk\"]), size=1).tolist()[0]\n",
    "    for x in range(4,9):\n",
    "        empty_list = [0.] * 20\n",
    "        is_true_arr_top_4 = [-1 if ((idx >= x) & (idx <= x+3)) else 0 for idx,j in enumerate(empty_list)]\n",
    "        top_4_profit += GetProfits(revenue, revenue_split_top_4, is_true_arr_top_4, top_4_odds)\n",
    "\n",
    "    revenue_split_relegation = np.random.multinomial(1000, list(df[\"relegation_risk\"]), size=1).tolist()[0]\n",
    "    for x in range(9,14):\n",
    "        empty_list = [0.] * 20\n",
    "        is_true_arr_relegation = [-1 if ((idx >= x) & (idx <= x+2)) else 0 for idx,j in enumerate(empty_list)]\n",
    "        relegation_profit += GetProfits(revenue, revenue_split_relegation, is_true_arr_relegation, relegation_odds)\n",
    "\n",
    "league_winner_profit = (league_winner_profit/50000) + 999\n",
    "top_4_profit = (top_4_profit/50000) + 999\n",
    "relegation_profit = (relegation_profit/50000) + 999"
   ]
  },
  {
   "cell_type": "code",
   "execution_count": 269,
   "metadata": {
    "scrolled": false
   },
   "outputs": [
    {
     "data": {
      "text/html": [
       "\n",
       "    <table>\n",
       "        <tr>\n",
       "            <th>Betting Type</th>\n",
       "            <th>Profit</th>\n",
       "        </tr>\n",
       "        <tr>\n",
       "            <td>League Winner</td>\n",
       "            <td>809.14</td>\n",
       "        </tr>\n",
       "        <tr>\n",
       "            <td>Top 4</td>\n",
       "            <td>520.89</td>\n",
       "        </tr>\n",
       "        <tr>\n",
       "            <td>Relegation</td>\n",
       "            <td>602.6</td>\n",
       "        </tr>\n",
       "        <tr>\n",
       "            <td>Total</td>\n",
       "            <td>932.63</td>\n",
       "        </tr>\n",
       "    </table>"
      ],
      "text/plain": [
       "<IPython.core.display.HTML object>"
      ]
     },
     "metadata": {},
     "output_type": "display_data"
    },
    {
     "data": {
      "image/png": "[encoded data removed]",
      "text/plain": [
       "<Figure size 432x288 with 1 Axes>"
      ]
     },
     "metadata": {
      "needs_background": "light"
     },
     "output_type": "display_data"
    }
   ],
   "source": [
    "GetProfitReport(league_winner_profit, top_4_profit, relegation_profit)"
   ]
  },
  {
   "cell_type": "code",
   "execution_count": 270,
   "metadata": {
    "scrolled": true
   },
   "outputs": [
    {
     "name": "stdout",
     "output_type": "stream",
     "text": [
      "[-980.9793740454077, -809.7937404540763, -48.96870227038187, 902.0625954592363, 8510.312977296182]\n"
     ]
    },
    {
     "data": {
      "image/png": "[encoded data removed]",
      "text/plain": [
       "<Figure size 432x288 with 1 Axes>"
      ]
     },
     "metadata": {
      "needs_background": "light"
     },
     "output_type": "display_data"
    }
   ],
   "source": [
    "bets = [10, 100, 500, 1000, 5000]\n",
    "revenue_split_league = [i/1000 for i in revenue_split_league]\n",
    "revenue_split_top_4 = [i/1000 for i in revenue_split_top_4]\n",
    "revenue_split_relegation = [i/1000 for i in revenue_split_relegation]\n",
    "revenue_splits = [revenue_split_league, revenue_split_top_4, revenue_split_relegation]\n",
    "is_true_arrs = [is_true_arr_league, is_true_arr_top_4, is_true_arr_relegation]\n",
    "    \n",
    "GetProfitsByAmounts(bets, revenue_splits,is_true_arrs)"
   ]
  },
  {
   "cell_type": "markdown",
   "metadata": {},
   "source": [
    "##### 3.3.3.4 In-Between Analysis - II\n",
    "    i)Some desirable events come true whilst some other events don't come true\n",
    "    \n",
    "<h6>Observation: </h6> Model performance is very close to the best case scenario, with the model churning a substantial profit even when the results are a mixed bag."
   ]
  },
  {
   "cell_type": "code",
   "execution_count": 271,
   "metadata": {},
   "outputs": [],
   "source": [
    "revenue = 1\n",
    "league_winner_profit = 0\n",
    "top_4_profit = 0\n",
    "relegation_profit = 0\n",
    "\n",
    "for i in range(10000):\n",
    "    revenue_split_league = np.random.multinomial(1000, list(df[\"winning_league_risk\"]), size=1).tolist()[0]\n",
    "    for x in range(0,3):\n",
    "        empty_list = [0.] * 20\n",
    "        is_true_arr_league = is_true_arr_league = [-1 if idx == x else 0 for idx,j in enumerate(empty_list)]\n",
    "        league_winner_profit += GetProfits(revenue, revenue_split_league, is_true_arr_league, league_winner_odds)\n",
    "\n",
    "    revenue_split_top_4 = np.random.multinomial(1000, list(df[\"top_4_risk\"]), size=1).tolist()[0]\n",
    "    for x in range(0,3):\n",
    "        empty_list = [0.] * 20\n",
    "        is_true_arr_top_4 = [-1 if ((idx >= x) & (idx <= x+3)) else 0 for idx,j in enumerate(empty_list)]\n",
    "        top_4_profit += GetProfits(revenue, revenue_split_top_4, is_true_arr_top_4, top_4_odds)\n",
    "\n",
    "    revenue_split_relegation = np.random.multinomial(1000, list(df[\"relegation_risk\"]), size=1).tolist()[0]\n",
    "    for x in range(15,18):\n",
    "        empty_list = [0.] * 20\n",
    "        is_true_arr_relegation = [-1 if ((idx >= x) & (idx <= x+2)) else 0 for idx,j in enumerate(empty_list)]\n",
    "        relegation_profit += GetProfits(revenue, revenue_split_relegation, is_true_arr_relegation, relegation_odds)\n",
    "\n",
    "league_winner_profit = (league_winner_profit/30000) + 999\n",
    "top_4_profit = (top_4_profit/30000) + 999\n",
    "relegation_profit = (relegation_profit/30000) + 999"
   ]
  },
  {
   "cell_type": "code",
   "execution_count": 272,
   "metadata": {},
   "outputs": [
    {
     "data": {
      "text/html": [
       "\n",
       "    <table>\n",
       "        <tr>\n",
       "            <th>Betting Type</th>\n",
       "            <th>Profit</th>\n",
       "        </tr>\n",
       "        <tr>\n",
       "            <td>League Winner</td>\n",
       "            <td>857.7</td>\n",
       "        </tr>\n",
       "        <tr>\n",
       "            <td>Top 4</td>\n",
       "            <td>644.22</td>\n",
       "        </tr>\n",
       "        <tr>\n",
       "            <td>Relegation</td>\n",
       "            <td>706.19</td>\n",
       "        </tr>\n",
       "        <tr>\n",
       "            <td>Total</td>\n",
       "            <td>1208.11</td>\n",
       "        </tr>\n",
       "    </table>"
      ],
      "text/plain": [
       "<IPython.core.display.HTML object>"
      ]
     },
     "metadata": {},
     "output_type": "display_data"
    },
    {
     "data": {
      "image/png": "[encoded data removed]",
      "text/plain": [
       "<Figure size 432x288 with 1 Axes>"
      ]
     },
     "metadata": {
      "needs_background": "light"
     },
     "output_type": "display_data"
    }
   ],
   "source": [
    "GetProfitReport(league_winner_profit, top_4_profit, relegation_profit)"
   ]
  },
  {
   "cell_type": "code",
   "execution_count": 270,
   "metadata": {
    "scrolled": false
   },
   "outputs": [
    {
     "name": "stdout",
     "output_type": "stream",
     "text": [
      "[-980.9793740454077, -809.7937404540763, -48.96870227038187, 902.0625954592363, 8510.312977296182]\n"
     ]
    },
    {
     "data": {
      "image/png": "[encoded data removed]",
      "text/plain": [
       "<Figure size 432x288 with 1 Axes>"
      ]
     },
     "metadata": {
      "needs_background": "light"
     },
     "output_type": "display_data"
    }
   ],
   "source": [
    "bets = [10, 100, 500, 1000, 5000]\n",
    "revenue_split_league = [i/1000 for i in revenue_split_league]\n",
    "revenue_split_top_4 = [i/1000 for i in revenue_split_top_4]\n",
    "revenue_split_relegation = [i/1000 for i in revenue_split_relegation]\n",
    "revenue_splits = [revenue_split_league, revenue_split_top_4, revenue_split_relegation]\n",
    "is_true_arrs = [is_true_arr_league, is_true_arr_top_4, is_true_arr_relegation]\n",
    "    \n",
    "GetProfitsByAmounts(bets, revenue_splits,is_true_arrs)"
   ]
  },
  {
   "cell_type": "markdown",
   "metadata": {},
   "source": [
    "### 4. Category Wise Revenue Distribution\n",
    "\n",
    "Although so far we've assumed the average betting or revenue to be same for all categories it is rarely the case it works like that. Again like betting for each team betting in each category has it's own risk. From the outset it is quite clear that the probablity of getting premier league winner right at 1/20 is quite high to top 4 and relagation which are at 1/5 and 3/20 respectively.\n",
    "\n",
    "Before we assign proportionate revenues let's run a single category analysis, where all the revenue comes from betting in only one of the categories"
   ]
  },
  {
   "cell_type": "markdown",
   "metadata": {},
   "source": [
    "#### 4.1 Independent Category Analysis"
   ]
  },
  {
   "cell_type": "markdown",
   "metadata": {},
   "source": [
    "##### 4.1.1 Premier League Winner"
   ]
  },
  {
   "cell_type": "markdown",
   "metadata": {},
   "source": [
    "###### 4.1.1.1 Worst Case Scenario\n",
    "\n",
    "Betting only on PL Winner is profitable in the worst case provided $3000 is gambled."
   ]
  },
  {
   "cell_type": "code",
   "execution_count": 280,
   "metadata": {},
   "outputs": [],
   "source": [
    "revenue = 1\n",
    "league_winner_profit = 0\n",
    "top_4_profit = 0\n",
    "relegation_profit = 0\n",
    "for i in range(10000):\n",
    "    revenue_split_league = np.random.multinomial(3000, list(df[\"winning_league_risk\"]), size=1).tolist()[0]\n",
    "    is_true_arr_league = [0, 0, 0, 0, 0, 0, 0, 0, 0, 0, 0, 0, 0, 0, 0, 0, 0, 0, 0, -1]\n",
    "    league_winner_profit += GetProfits(revenue, revenue_split_league, is_true_arr_league, league_winner_odds)\n",
    "\n",
    "league_winner_profit = (league_winner_profit/10000) + 2999"
   ]
  },
  {
   "cell_type": "code",
   "execution_count": 281,
   "metadata": {
    "scrolled": false
   },
   "outputs": [
    {
     "data": {
      "text/html": [
       "\n",
       "    <table>\n",
       "        <tr>\n",
       "            <th>Betting Type</th>\n",
       "            <th>Profit</th>\n",
       "        </tr>\n",
       "        <tr>\n",
       "            <td>League Winner</td>\n",
       "            <td>1493.51</td>\n",
       "        </tr>\n",
       "        <tr>\n",
       "            <td>Top 4</td>\n",
       "            <td>0</td>\n",
       "        </tr>\n",
       "        <tr>\n",
       "            <td>Relegation</td>\n",
       "            <td>0</td>\n",
       "        </tr>\n",
       "        <tr>\n",
       "            <td>Total</td>\n",
       "            <td>493.51</td>\n",
       "        </tr>\n",
       "    </table>"
      ],
      "text/plain": [
       "<IPython.core.display.HTML object>"
      ]
     },
     "metadata": {},
     "output_type": "display_data"
    },
    {
     "data": {
      "image/png": "[encoded data removed]",
      "text/plain": [
       "<Figure size 432x288 with 1 Axes>"
      ]
     },
     "metadata": {
      "needs_background": "light"
     },
     "output_type": "display_data"
    }
   ],
   "source": [
    "GetProfitReport(league_winner_profit, top_4_profit, relegation_profit)"
   ]
  },
  {
   "cell_type": "markdown",
   "metadata": {},
   "source": [
    "###### 4.1.1.2 Best Case Scenario\n",
    "The most profitable model so far."
   ]
  },
  {
   "cell_type": "code",
   "execution_count": 282,
   "metadata": {},
   "outputs": [],
   "source": [
    "revenue = 1\n",
    "league_winner_profit = 0\n",
    "top_4_profit = 0\n",
    "relegation_profit = 0\n",
    "for i in range(10000):\n",
    "    revenue_split_league = np.random.multinomial(3000, list(df[\"winning_league_risk\"]), size=1).tolist()[0]\n",
    "    is_true_arr_league = [-1, 0, 0, 0, 0, 0, 0, 0, 0, 0, 0, 0, 0, 0, 0, 0, 0, 0, 0, 0]\n",
    "    league_winner_profit += GetProfits(revenue, revenue_split_league, is_true_arr_league, league_winner_odds)\n",
    "\n",
    "league_winner_profit = (league_winner_profit/10000) + 2999"
   ]
  },
  {
   "cell_type": "code",
   "execution_count": 283,
   "metadata": {
    "scrolled": false
   },
   "outputs": [
    {
     "data": {
      "text/html": [
       "\n",
       "    <table>\n",
       "        <tr>\n",
       "            <th>Betting Type</th>\n",
       "            <th>Profit</th>\n",
       "        </tr>\n",
       "        <tr>\n",
       "            <td>League Winner</td>\n",
       "            <td>2642.0</td>\n",
       "        </tr>\n",
       "        <tr>\n",
       "            <td>Top 4</td>\n",
       "            <td>0</td>\n",
       "        </tr>\n",
       "        <tr>\n",
       "            <td>Relegation</td>\n",
       "            <td>0</td>\n",
       "        </tr>\n",
       "        <tr>\n",
       "            <td>Total</td>\n",
       "            <td>1642.0</td>\n",
       "        </tr>\n",
       "    </table>"
      ],
      "text/plain": [
       "<IPython.core.display.HTML object>"
      ]
     },
     "metadata": {},
     "output_type": "display_data"
    },
    {
     "data": {
      "image/png": "[encoded data removed]",
      "text/plain": [
       "<Figure size 432x288 with 1 Axes>"
      ]
     },
     "metadata": {
      "needs_background": "light"
     },
     "output_type": "display_data"
    }
   ],
   "source": [
    "GetProfitReport(league_winner_profit, top_4_profit, relegation_profit)"
   ]
  },
  {
   "cell_type": "markdown",
   "metadata": {},
   "source": [
    "##### 4.1.2 Top 4"
   ]
  },
  {
   "cell_type": "markdown",
   "metadata": {},
   "source": [
    "###### 4.1.2.1 Worst Case Scenario\n",
    "\n",
    "Although the Model is running at a loss but the amount lost is very minimal and can be easily made profitable with a little change of luck."
   ]
  },
  {
   "cell_type": "code",
   "execution_count": 292,
   "metadata": {},
   "outputs": [],
   "source": [
    "revenue = 1\n",
    "league_winner_profit = 0\n",
    "top_4_profit = 0\n",
    "relegation_profit = 0\n",
    "for i in range(10000):\n",
    "    revenue_split_top_4 = np.random.multinomial(3000, list(df[\"top_4_risk\"]), size=1).tolist()[0]\n",
    "    is_true_arr_top_4 = [0, 0, 0, 0, 0, 0, 0, 0, 0, 0, 0, 0, 0, 0, 0, 0, -1, -1, -1, -1]\n",
    "    top_4_profit += GetProfits(revenue, revenue_split_top_4, is_true_arr_top_4, top_4_odds)\n",
    "\n",
    "top_4_profit = (top_4_profit/10000) + 2999"
   ]
  },
  {
   "cell_type": "code",
   "execution_count": 293,
   "metadata": {
    "scrolled": false
   },
   "outputs": [
    {
     "data": {
      "text/html": [
       "\n",
       "    <table>\n",
       "        <tr>\n",
       "            <th>Betting Type</th>\n",
       "            <th>Profit</th>\n",
       "        </tr>\n",
       "        <tr>\n",
       "            <td>League Winner</td>\n",
       "            <td>0</td>\n",
       "        </tr>\n",
       "        <tr>\n",
       "            <td>Top 4</td>\n",
       "            <td>907.64</td>\n",
       "        </tr>\n",
       "        <tr>\n",
       "            <td>Relegation</td>\n",
       "            <td>0</td>\n",
       "        </tr>\n",
       "        <tr>\n",
       "            <td>Total</td>\n",
       "            <td>-92.36</td>\n",
       "        </tr>\n",
       "    </table>"
      ],
      "text/plain": [
       "<IPython.core.display.HTML object>"
      ]
     },
     "metadata": {},
     "output_type": "display_data"
    },
    {
     "data": {
      "image/png": "[encoded data removed]",
      "text/plain": [
       "<Figure size 432x288 with 1 Axes>"
      ]
     },
     "metadata": {
      "needs_background": "light"
     },
     "output_type": "display_data"
    }
   ],
   "source": [
    "GetProfitReport(league_winner_profit, top_4_profit, relegation_profit)"
   ]
  },
  {
   "cell_type": "markdown",
   "metadata": {},
   "source": [
    "###### 4.1.1.2 Best Case Scenario\n",
    "\n",
    "Not as good as PL Winner only scenario but still a substantially profitable model with nearly 100 % return"
   ]
  },
  {
   "cell_type": "code",
   "execution_count": 294,
   "metadata": {},
   "outputs": [],
   "source": [
    "revenue = 1\n",
    "league_winner_profit = 0\n",
    "top_4_profit = 0\n",
    "relegation_profit = 0\n",
    "for i in range(10000):\n",
    "    revenue_split_top_4 = np.random.multinomial(3000, list(df[\"top_4_risk\"]), size=1).tolist()[0]\n",
    "    is_true_arr_top_4 = [-1, -1, -1, -1, 0, 0, 0, 0, 0, 0, 0, 0, 0, 0, 0, 0, 0, 0, 0, 0]\n",
    "    top_4_profit += GetProfits(revenue, revenue_split_top_4, is_true_arr_top_4, top_4_odds)\n",
    "\n",
    "top_4_profit = (top_4_profit/10000) + 2999"
   ]
  },
  {
   "cell_type": "code",
   "execution_count": 295,
   "metadata": {
    "scrolled": false
   },
   "outputs": [
    {
     "data": {
      "text/html": [
       "\n",
       "    <table>\n",
       "        <tr>\n",
       "            <th>Betting Type</th>\n",
       "            <th>Profit</th>\n",
       "        </tr>\n",
       "        <tr>\n",
       "            <td>League Winner</td>\n",
       "            <td>0</td>\n",
       "        </tr>\n",
       "        <tr>\n",
       "            <td>Top 4</td>\n",
       "            <td>1980.24</td>\n",
       "        </tr>\n",
       "        <tr>\n",
       "            <td>Relegation</td>\n",
       "            <td>0</td>\n",
       "        </tr>\n",
       "        <tr>\n",
       "            <td>Total</td>\n",
       "            <td>980.24</td>\n",
       "        </tr>\n",
       "    </table>"
      ],
      "text/plain": [
       "<IPython.core.display.HTML object>"
      ]
     },
     "metadata": {},
     "output_type": "display_data"
    },
    {
     "data": {
      "image/png": "[encoded data removed]",
      "text/plain": [
       "<Figure size 432x288 with 1 Axes>"
      ]
     },
     "metadata": {
      "needs_background": "light"
     },
     "output_type": "display_data"
    }
   ],
   "source": [
    "GetProfitReport(league_winner_profit, top_4_profit, relegation_profit)"
   ]
  },
  {
   "cell_type": "markdown",
   "metadata": {},
   "source": [
    "##### 4.1.3 Relagation"
   ]
  },
  {
   "cell_type": "markdown",
   "metadata": {},
   "source": [
    "###### 4.1.2.1 Worst Case Scenario\n",
    "\n",
    "Model is profitable even under worst circumstances provided we manage to get bettings of around $ 3000 for this category. "
   ]
  },
  {
   "cell_type": "code",
   "execution_count": 296,
   "metadata": {},
   "outputs": [],
   "source": [
    "revenue = 1\n",
    "league_winner_profit = 0\n",
    "top_4_profit = 0\n",
    "relegation_profit = 0\n",
    "for i in range(10000):\n",
    "    revenue_split_relegation = np.random.multinomial(3000, list(df[\"relegation_risk\"]), size=1).tolist()[0]\n",
    "    is_true_arr_relegation = [-1, -1, -1, 0, 0, 0, 0, 0, 0, 0, 0, 0, 0, 0, 0, 0, 0, 0, 0, 0]\n",
    "    relegation_profit += GetProfits(revenue, revenue_split_relegation, is_true_arr_relegation, relegation_odds)\n",
    "\n",
    "relegation_profit = (relegation_profit/10000) + 2999"
   ]
  },
  {
   "cell_type": "code",
   "execution_count": 297,
   "metadata": {
    "scrolled": false
   },
   "outputs": [
    {
     "data": {
      "text/html": [
       "\n",
       "    <table>\n",
       "        <tr>\n",
       "            <th>Betting Type</th>\n",
       "            <th>Profit</th>\n",
       "        </tr>\n",
       "        <tr>\n",
       "            <td>League Winner</td>\n",
       "            <td>0</td>\n",
       "        </tr>\n",
       "        <tr>\n",
       "            <td>Top 4</td>\n",
       "            <td>0</td>\n",
       "        </tr>\n",
       "        <tr>\n",
       "            <td>Relegation</td>\n",
       "            <td>1441.33</td>\n",
       "        </tr>\n",
       "        <tr>\n",
       "            <td>Total</td>\n",
       "            <td>441.33</td>\n",
       "        </tr>\n",
       "    </table>"
      ],
      "text/plain": [
       "<IPython.core.display.HTML object>"
      ]
     },
     "metadata": {},
     "output_type": "display_data"
    },
    {
     "data": {
      "image/png": "[encoded data removed]",
      "text/plain": [
       "<Figure size 432x288 with 1 Axes>"
      ]
     },
     "metadata": {
      "needs_background": "light"
     },
     "output_type": "display_data"
    }
   ],
   "source": [
    "GetProfitReport(league_winner_profit, top_4_profit, relegation_profit)"
   ]
  },
  {
   "cell_type": "markdown",
   "metadata": {},
   "source": [
    "###### 4.1.1.2 Best Case Scenario\n",
    "\n",
    "Manages to double the investment provided bettings of $ 3000 dollar"
   ]
  },
  {
   "cell_type": "code",
   "execution_count": 300,
   "metadata": {},
   "outputs": [],
   "source": [
    "revenue = 1\n",
    "league_winner_profit = 0\n",
    "top_4_profit = 0\n",
    "relegation_profit = 0\n",
    "for i in range(10000):\n",
    "    revenue_split_relegation = np.random.multinomial(3000, list(df[\"relegation_risk\"]), size=1).tolist()[0]\n",
    "    is_true_arr_relegation = [0, 0, 0, 0, 0, 0, 0, 0, 0, 0, 0, 0, 0, 0, 0, 0, 0, -1, -1, -1]\n",
    "    relegation_profit += GetProfits(revenue, revenue_split_relegation, is_true_arr_relegation, relegation_odds)\n",
    "\n",
    "relegation_profit = (relegation_profit/10000) + 2999"
   ]
  },
  {
   "cell_type": "code",
   "execution_count": 301,
   "metadata": {
    "scrolled": false
   },
   "outputs": [
    {
     "data": {
      "text/html": [
       "\n",
       "    <table>\n",
       "        <tr>\n",
       "            <th>Betting Type</th>\n",
       "            <th>Profit</th>\n",
       "        </tr>\n",
       "        <tr>\n",
       "            <td>League Winner</td>\n",
       "            <td>0</td>\n",
       "        </tr>\n",
       "        <tr>\n",
       "            <td>Top 4</td>\n",
       "            <td>0</td>\n",
       "        </tr>\n",
       "        <tr>\n",
       "            <td>Relegation</td>\n",
       "            <td>2175.21</td>\n",
       "        </tr>\n",
       "        <tr>\n",
       "            <td>Total</td>\n",
       "            <td>1175.21</td>\n",
       "        </tr>\n",
       "    </table>"
      ],
      "text/plain": [
       "<IPython.core.display.HTML object>"
      ]
     },
     "metadata": {},
     "output_type": "display_data"
    },
    {
     "data": {
      "image/png": "[encoded data removed]",
      "text/plain": [
       "<Figure size 432x288 with 1 Axes>"
      ]
     },
     "metadata": {
      "needs_background": "light"
     },
     "output_type": "display_data"
    }
   ],
   "source": [
    "GetProfitReport(league_winner_profit, top_4_profit, relegation_profit)"
   ]
  },
  {
   "cell_type": "markdown",
   "metadata": {},
   "source": [
    "#### 4.2 Revenue Distribution By Category Risk"
   ]
  },
  {
   "cell_type": "code",
   "execution_count": 314,
   "metadata": {},
   "outputs": [
    {
     "name": "stdout",
     "output_type": "stream",
     "text": [
      "Amount Betted on Premier League Winner - 375.0\n",
      "Amount Betted on Top 4 - 1500.0\n",
      "Amount Betted on Relagation - 1124.9999999999998\n"
     ]
    },
    {
     "data": {
      "text/plain": [
       "<matplotlib.axes._subplots.AxesSubplot at 0x1c929ef4c18>"
      ]
     },
     "execution_count": 314,
     "metadata": {},
     "output_type": "execute_result"
    },
    {
     "data": {
      "image/png": "[encoded data removed]",
      "text/plain": [
       "<Figure size 432x288 with 1 Axes>"
      ]
     },
     "metadata": {
      "needs_background": "light"
     },
     "output_type": "display_data"
    }
   ],
   "source": [
    "normalizer = (1/20) + (1/5) + (3/20)\n",
    "prem_winner_pct = (1/20)/normalizer\n",
    "top_4_pct = (1/5)/normalizer\n",
    "relegation_pct = (3/20)/normalizer\n",
    "\n",
    "rev_prem_winner = 3000 * prem_winner_pct\n",
    "print(f\"Amount Betted on Premier League Winner - {rev_prem_winner}\")\n",
    "rev_top_4 = 3000 * top_4_pct\n",
    "print(f\"Amount Betted on Top 4 - {rev_top_4}\")\n",
    "rev_relegation = 3000 * relegation_pct\n",
    "print(f\"Amount Betted on Relagation - {rev_relegation}\")\n",
    "\n",
    "sns.barplot(x=[\"PL Winner\", \"Top 4\", \"Relagation\"], y = [rev_prem_winner, rev_top_4, rev_relegation])"
   ]
  },
  {
   "cell_type": "markdown",
   "metadata": {},
   "source": [
    "##### 4.2.1 Worst Case Analysis\n",
    "    i) Event with high return comes true.\n",
    "    \n",
    "<h6>Observation: </h6> Even under the worst circumstances the model is able to churn a profit provided we have bettings of 3000 proportionately divided based on the risk associated with each category"
   ]
  },
  {
   "cell_type": "code",
   "execution_count": 315,
   "metadata": {},
   "outputs": [],
   "source": [
    "revenue = 1\n",
    "league_winner_profit = 0\n",
    "top_4_profit = 0\n",
    "relegation_profit = 0\n",
    "for i in range(10000):\n",
    "    revenue_split_league = np.random.multinomial(rev_prem_winner, list(df[\"winning_league_risk\"]), size=1).tolist()[0]\n",
    "    is_true_arr_league = [0, 0, 0, 0, 0, 0, 0, 0, 0, 0, 0, 0, 0, 0, 0, 0, 0, 0, 0, -1]\n",
    "    league_winner_profit += GetProfits(revenue, revenue_split_league, is_true_arr_league, league_winner_odds)\n",
    "\n",
    "\n",
    "    revenue_split_top_4 = np.random.multinomial(rev_top_4, list(df[\"top_4_risk\"]), size=1).tolist()[0]\n",
    "    is_true_arr_top_4 = [0, 0, 0, 0, 0, 0, 0, 0, 0, 0, 0, 0, 0, 0, 0, 0, -1, -1, -1, -1]\n",
    "    top_4_profit += GetProfits(revenue, revenue_split_top_4, is_true_arr_top_4, top_4_odds)\n",
    "\n",
    "    revenue_split_relegation = np.random.multinomial(rev_relegation, list(df[\"relegation_risk\"]), size=1).tolist()[0]\n",
    "    is_true_arr_relegation = [-1, -1, -1, 0, 0, 0, 0, 0, 0, 0, 0, 0, 0, 0, 0, 0, 0, 0, 0, 0]\n",
    "    relegation_profit += GetProfits(revenue, revenue_split_relegation, is_true_arr_relegation, relegation_odds)\n",
    "\n",
    "league_winner_profit = (league_winner_profit/10000) + (rev_prem_winner -1)\n",
    "top_4_profit = (top_4_profit/10000) + (rev_top_4 -1)\n",
    "relegation_profit = (relegation_profit/10000) + (rev_relegation -1)"
   ]
  },
  {
   "cell_type": "code",
   "execution_count": 317,
   "metadata": {
    "scrolled": false
   },
   "outputs": [
    {
     "data": {
      "text/html": [
       "\n",
       "    <table>\n",
       "        <tr>\n",
       "            <th>Betting Type</th>\n",
       "            <th>Profit</th>\n",
       "        </tr>\n",
       "        <tr>\n",
       "            <td>League Winner</td>\n",
       "            <td>187.25</td>\n",
       "        </tr>\n",
       "        <tr>\n",
       "            <td>Top 4</td>\n",
       "            <td>454.29</td>\n",
       "        </tr>\n",
       "        <tr>\n",
       "            <td>Relegation</td>\n",
       "            <td>541.87</td>\n",
       "        </tr>\n",
       "        <tr>\n",
       "            <td>Total</td>\n",
       "            <td>183.41</td>\n",
       "        </tr>\n",
       "    </table>"
      ],
      "text/plain": [
       "<IPython.core.display.HTML object>"
      ]
     },
     "metadata": {},
     "output_type": "display_data"
    },
    {
     "data": {
      "image/png": "[encoded data removed]",
      "text/plain": [
       "<Figure size 432x288 with 1 Axes>"
      ]
     },
     "metadata": {
      "needs_background": "light"
     },
     "output_type": "display_data"
    }
   ],
   "source": [
    "GetProfitReport(league_winner_profit, top_4_profit, relegation_profit)"
   ]
  },
  {
   "cell_type": "markdown",
   "metadata": {},
   "source": [
    "##### 4.2.2 Best Case Analysis\n",
    "    i) Event with Least return comes true.\n",
    "    \n",
    "<h6>Observation: </h6> Manages to double the income."
   ]
  },
  {
   "cell_type": "code",
   "execution_count": 320,
   "metadata": {},
   "outputs": [],
   "source": [
    "revenue = 1\n",
    "league_winner_profit = 0\n",
    "top_4_profit = 0\n",
    "relegation_profit = 0\n",
    "for i in range(10000):\n",
    "    revenue_split_league = np.random.multinomial(rev_prem_winner, list(df[\"winning_league_risk\"]), size=1).tolist()[0]\n",
    "    is_true_arr_league = [-1, 0, 0, 0, 0, 0, 0, 0, 0, 0, 0, 0, 0, 0, 0, 0, 0, 0, 0, 0]\n",
    "    league_winner_profit += GetProfits(revenue, revenue_split_league, is_true_arr_league, league_winner_odds)\n",
    "\n",
    "\n",
    "    revenue_split_top_4 = np.random.multinomial(rev_top_4, list(df[\"top_4_risk\"]), size=1).tolist()[0]\n",
    "    is_true_arr_top_4 = [-1, -1, -1, -1, 0, 0, 0, 0, 0, 0, 0, 0, 0, 0, 0, 0, 0, 0, 0, 0]\n",
    "    top_4_profit += GetProfits(revenue, revenue_split_top_4, is_true_arr_top_4, top_4_odds)\n",
    "\n",
    "    revenue_split_relegation = np.random.multinomial(rev_relegation, list(df[\"relegation_risk\"]), size=1).tolist()[0]\n",
    "    is_true_arr_relegation = [0, 0, 0, 0, 0, 0, 0, 0, 0, 0, 0, 0, 0, 0, 0, 0, 0, -1, -1, -1]\n",
    "    relegation_profit += GetProfits(revenue, revenue_split_relegation, is_true_arr_relegation, relegation_odds)\n",
    "\n",
    "league_winner_profit = (league_winner_profit/10000) + (rev_prem_winner - 1)\n",
    "top_4_profit = (top_4_profit/10000) + (rev_top_4 - 1)\n",
    "relegation_profit = (relegation_profit/10000) + (rev_relegation - 1)"
   ]
  },
  {
   "cell_type": "code",
   "execution_count": 321,
   "metadata": {
    "scrolled": false
   },
   "outputs": [
    {
     "data": {
      "text/html": [
       "\n",
       "    <table>\n",
       "        <tr>\n",
       "            <th>Betting Type</th>\n",
       "            <th>Profit</th>\n",
       "        </tr>\n",
       "        <tr>\n",
       "            <td>League Winner</td>\n",
       "            <td>330.12</td>\n",
       "        </tr>\n",
       "        <tr>\n",
       "            <td>Top 4</td>\n",
       "            <td>989.9</td>\n",
       "        </tr>\n",
       "        <tr>\n",
       "            <td>Relegation</td>\n",
       "            <td>815.44</td>\n",
       "        </tr>\n",
       "        <tr>\n",
       "            <td>Total</td>\n",
       "            <td>1135.46</td>\n",
       "        </tr>\n",
       "    </table>"
      ],
      "text/plain": [
       "<IPython.core.display.HTML object>"
      ]
     },
     "metadata": {},
     "output_type": "display_data"
    },
    {
     "data": {
      "image/png": "[encoded data removed]",
      "text/plain": [
       "<Figure size 432x288 with 1 Axes>"
      ]
     },
     "metadata": {
      "needs_background": "light"
     },
     "output_type": "display_data"
    }
   ],
   "source": [
    "GetProfitReport(league_winner_profit, top_4_profit, relegation_profit)"
   ]
  },
  {
   "cell_type": "markdown",
   "metadata": {},
   "source": [
    "##### 4.2.3 In-Between Analysis - I\n",
    "    i)Undesirable events with not the worst penalties (i.e worst case scenario excluded) come true\n",
    "    \n",
    "<h6>Observation: </h6> Overall below simulation is able to demonstrate that in some case, even if an undesirable outcome happens, which is not so often, our model is able to churn substantial profit."
   ]
  },
  {
   "cell_type": "code",
   "execution_count": 325,
   "metadata": {},
   "outputs": [],
   "source": [
    "revenue = 1\n",
    "league_winner_profit = 0\n",
    "top_4_profit = 0\n",
    "relegation_profit = 0\n",
    "\n",
    "for i in range(10000):\n",
    "    revenue_split_league = np.random.multinomial(rev_prem_winner, list(df[\"winning_league_risk\"]), size=1).tolist()[0]\n",
    "    for x in range(1,6):\n",
    "        empty_list = [0.] * 20\n",
    "        is_true_arr_league = is_true_arr_league = [-1 if idx == x else 0 for idx,j in enumerate(empty_list)]\n",
    "        league_winner_profit += GetProfits(revenue, revenue_split_league, is_true_arr_league, league_winner_odds)\n",
    "\n",
    "    revenue_split_top_4 = np.random.multinomial(rev_top_4, list(df[\"top_4_risk\"]), size=1).tolist()[0]\n",
    "    for x in range(4,9):\n",
    "        empty_list = [0.] * 20\n",
    "        is_true_arr_top_4 = [-1 if ((idx >= x) & (idx <= x+3)) else 0 for idx,j in enumerate(empty_list)]\n",
    "        top_4_profit += GetProfits(revenue, revenue_split_top_4, is_true_arr_top_4, top_4_odds)\n",
    "\n",
    "    revenue_split_relegation = np.random.multinomial(rev_relegation, list(df[\"relegation_risk\"]), size=1).tolist()[0]\n",
    "    for x in range(9,14):\n",
    "        empty_list = [0.] * 20\n",
    "        is_true_arr_relegation = [-1 if ((idx >= x) & (idx <= x+2)) else 0 for idx,j in enumerate(empty_list)]\n",
    "        relegation_profit += GetProfits(revenue, revenue_split_relegation, is_true_arr_relegation, relegation_odds)\n",
    "\n",
    "league_winner_profit = (league_winner_profit/50000) + (rev_prem_winner - 1)\n",
    "top_4_profit = (top_4_profit/50000) + (rev_top_4 - 1)\n",
    "relegation_profit = (relegation_profit/50000) + (rev_relegation - 1)"
   ]
  },
  {
   "cell_type": "code",
   "execution_count": 326,
   "metadata": {
    "scrolled": false
   },
   "outputs": [
    {
     "data": {
      "text/html": [
       "\n",
       "    <table>\n",
       "        <tr>\n",
       "            <th>Betting Type</th>\n",
       "            <th>Profit</th>\n",
       "        </tr>\n",
       "        <tr>\n",
       "            <td>League Winner</td>\n",
       "            <td>303.48</td>\n",
       "        </tr>\n",
       "        <tr>\n",
       "            <td>Top 4</td>\n",
       "            <td>782.2</td>\n",
       "        </tr>\n",
       "        <tr>\n",
       "            <td>Relegation</td>\n",
       "            <td>678.4</td>\n",
       "        </tr>\n",
       "        <tr>\n",
       "            <td>Total</td>\n",
       "            <td>764.08</td>\n",
       "        </tr>\n",
       "    </table>"
      ],
      "text/plain": [
       "<IPython.core.display.HTML object>"
      ]
     },
     "metadata": {},
     "output_type": "display_data"
    },
    {
     "data": {
      "image/png": "[encoded data removed]",
      "text/plain": [
       "<Figure size 432x288 with 1 Axes>"
      ]
     },
     "metadata": {
      "needs_background": "light"
     },
     "output_type": "display_data"
    }
   ],
   "source": [
    "GetProfitReport(league_winner_profit, top_4_profit, relegation_profit)"
   ]
  },
  {
   "cell_type": "markdown",
   "metadata": {},
   "source": [
    "##### 4.2.4 In-Between Analysis - II\n",
    "    i)Some desirable events come true whilst some other events don't come true\n",
    "    \n",
    "<h6>Observation: </h6> Model performance is very close to the best case scenario, with the model churning a substantial profit even when the results are a mixed bag."
   ]
  },
  {
   "cell_type": "code",
   "execution_count": 327,
   "metadata": {},
   "outputs": [],
   "source": [
    "revenue = 1\n",
    "league_winner_profit = 0\n",
    "top_4_profit = 0\n",
    "relegation_profit = 0\n",
    "\n",
    "for i in range(10000):\n",
    "    revenue_split_league = np.random.multinomial(rev_prem_winner, list(df[\"winning_league_risk\"]), size=1).tolist()[0]\n",
    "    for x in range(0,3):\n",
    "        empty_list = [0.] * 20\n",
    "        is_true_arr_league = is_true_arr_league = [-1 if idx == x else 0 for idx,j in enumerate(empty_list)]\n",
    "        league_winner_profit += GetProfits(revenue, revenue_split_league, is_true_arr_league, league_winner_odds)\n",
    "\n",
    "    revenue_split_top_4 = np.random.multinomial(rev_top_4, list(df[\"top_4_risk\"]), size=1).tolist()[0]\n",
    "    for x in range(0,3):\n",
    "        empty_list = [0.] * 20\n",
    "        is_true_arr_top_4 = [-1 if ((idx >= x) & (idx <= x+3)) else 0 for idx,j in enumerate(empty_list)]\n",
    "        top_4_profit += GetProfits(revenue, revenue_split_top_4, is_true_arr_top_4, top_4_odds)\n",
    "\n",
    "    revenue_split_relegation = np.random.multinomial(rev_relegation, list(df[\"relegation_risk\"]), size=1).tolist()[0]\n",
    "    for x in range(15,18):\n",
    "        empty_list = [0.] * 20\n",
    "        is_true_arr_relegation = [-1 if ((idx >= x) & (idx <= x+2)) else 0 for idx,j in enumerate(empty_list)]\n",
    "        relegation_profit += GetProfits(revenue, revenue_split_relegation, is_true_arr_relegation, relegation_odds)\n",
    "\n",
    "\n",
    "\n",
    "league_winner_profit = (league_winner_profit/30000) + (rev_prem_winner - 1)\n",
    "top_4_profit = (top_4_profit/30000) + (rev_top_4 - 1)\n",
    "relegation_profit = (relegation_profit/30000) + (rev_relegation - 1)"
   ]
  },
  {
   "cell_type": "code",
   "execution_count": 328,
   "metadata": {
    "scrolled": false
   },
   "outputs": [
    {
     "data": {
      "text/html": [
       "\n",
       "    <table>\n",
       "        <tr>\n",
       "            <th>Betting Type</th>\n",
       "            <th>Profit</th>\n",
       "        </tr>\n",
       "        <tr>\n",
       "            <td>League Winner</td>\n",
       "            <td>321.63</td>\n",
       "        </tr>\n",
       "        <tr>\n",
       "            <td>Top 4</td>\n",
       "            <td>966.61</td>\n",
       "        </tr>\n",
       "        <tr>\n",
       "            <td>Relegation</td>\n",
       "            <td>794.68</td>\n",
       "        </tr>\n",
       "        <tr>\n",
       "            <td>Total</td>\n",
       "            <td>1082.92</td>\n",
       "        </tr>\n",
       "    </table>"
      ],
      "text/plain": [
       "<IPython.core.display.HTML object>"
      ]
     },
     "metadata": {},
     "output_type": "display_data"
    },
    {
     "data": {
      "image/png": "[encoded data removed]",
      "text/plain": [
       "<Figure size 432x288 with 1 Axes>"
      ]
     },
     "metadata": {
      "needs_background": "light"
     },
     "output_type": "display_data"
    }
   ],
   "source": [
    "GetProfitReport(league_winner_profit, top_4_profit, relegation_profit)"
   ]
  },
  {
   "cell_type": "markdown",
   "metadata": {},
   "source": [
    "## 5. Conclusion"
   ]
  },
  {
   "cell_type": "markdown",
   "metadata": {},
   "source": [
    "Baring few extreme scenarios through the above simulation analysis and modelling we were able to demonstrate on most cases that the model is profitable provided that on an average revenue (betting) on each category is at least 700 dollars (for most cases). A deep dive into different scenarios revealed some interesting insights, for instance if we can manage gamblers to uniformly spend the revenue on the Premier League Winner Category then profits increase by a higher rate compared to others. Overall Top 4 is the safest option for the Gamblers given that they've a high probablity of getting it right, and likewise profits for the betting company does not increase with the same rate as it increases for PL Winner Category. Overall our model is a highly profitable model if we manage to atleast purchase gambles worth of 1000 dollars for each category."
   ]
  }
 ],
 "metadata": {
  "kernelspec": {
   "display_name": "Python 3",
   "language": "python",
   "name": "python3"
  },
  "language_info": {
   "codemirror_mode": {
    "name": "ipython",
    "version": 3
   },
   "file_extension": ".py",
   "mimetype": "text/x-python",
   "name": "python",
   "nbconvert_exporter": "python",
   "pygments_lexer": "ipython3",
   "version": "3.7.3"
  }
 },
 "nbformat": 4,
 "nbformat_minor": 2
}
